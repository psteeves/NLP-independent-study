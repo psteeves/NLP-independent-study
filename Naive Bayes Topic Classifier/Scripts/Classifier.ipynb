{
 "cells": [
  {
   "cell_type": "markdown",
   "metadata": {},
   "source": [
    "# Article Classification using Naive Bayes"
   ]
  },
  {
   "cell_type": "markdown",
   "metadata": {},
   "source": [
    "Created by Patrick Steeves as part of Independent Study with Professor Kanungo<br>\n",
    "George Washington University 12/23/2017"
   ]
  },
  {
   "cell_type": "markdown",
   "metadata": {},
   "source": [
    "This project trains a NB classifier on news article headlines to classify articles by topics"
   ]
  },
  {
   "cell_type": "code",
   "execution_count": null,
   "metadata": {
    "collapsed": true
   },
   "outputs": [],
   "source": [
    "%run Module.ipynb"
   ]
  },
  {
   "cell_type": "markdown",
   "metadata": {},
   "source": [
    "### Import Data"
   ]
  },
  {
   "cell_type": "markdown",
   "metadata": {},
   "source": [
    "The original data can be found at https://www.kaggle.com/uciml/news-aggregator-dataset <br>\n",
    "The data contains 400,000 headlines from news stories in 2014 in one of 4 categories: health, business, science and tech, entertainment"
   ]
  },
  {
   "cell_type": "markdown",
   "metadata": {},
   "source": [
    "Import our data from GitHub"
   ]
  },
  {
   "cell_type": "code",
   "execution_count": 3,
   "metadata": {
    "collapsed": true
   },
   "outputs": [],
   "source": [
    "titles = importData()"
   ]
  },
  {
   "cell_type": "markdown",
   "metadata": {},
   "source": [
    "Let's take a look at the data below. As we can see in the CATEGORY column, titles have the following categories: <br>\n",
    "b - business <br>\n",
    "e - entertainment <br>\n",
    "t - science and technology <br>\n",
    "m - health <br>"
   ]
  },
  {
   "cell_type": "code",
   "execution_count": 4,
   "metadata": {
    "collapsed": false
   },
   "outputs": [
    {
     "data": {
      "text/html": [
       "<div>\n",
       "<table border=\"1\" class=\"dataframe\">\n",
       "  <thead>\n",
       "    <tr style=\"text-align: right;\">\n",
       "      <th></th>\n",
       "      <th>ID</th>\n",
       "      <th>TITLE</th>\n",
       "      <th>URL</th>\n",
       "      <th>PUBLISHER</th>\n",
       "      <th>CATEGORY</th>\n",
       "      <th>STORY</th>\n",
       "      <th>HOSTNAME</th>\n",
       "      <th>TIMESTAMP</th>\n",
       "    </tr>\n",
       "  </thead>\n",
       "  <tbody>\n",
       "    <tr>\n",
       "      <th>0</th>\n",
       "      <td>1</td>\n",
       "      <td>Fed official says weak data caused by weather,...</td>\n",
       "      <td>http://www.latimes.com/business/money/la-fi-mo...</td>\n",
       "      <td>Los Angeles Times</td>\n",
       "      <td>b</td>\n",
       "      <td>ddUyU0VZz0BRneMioxUPQVP6sIxvM</td>\n",
       "      <td>www.latimes.com</td>\n",
       "      <td>1394470370698</td>\n",
       "    </tr>\n",
       "    <tr>\n",
       "      <th>1</th>\n",
       "      <td>2</td>\n",
       "      <td>Fed's Charles Plosser sees high bar for change...</td>\n",
       "      <td>http://www.livemint.com/Politics/H2EvwJSK2VE6O...</td>\n",
       "      <td>Livemint</td>\n",
       "      <td>b</td>\n",
       "      <td>ddUyU0VZz0BRneMioxUPQVP6sIxvM</td>\n",
       "      <td>www.livemint.com</td>\n",
       "      <td>1394470371207</td>\n",
       "    </tr>\n",
       "    <tr>\n",
       "      <th>2</th>\n",
       "      <td>3</td>\n",
       "      <td>US open: Stocks fall after Fed official hints ...</td>\n",
       "      <td>http://www.ifamagazine.com/news/us-open-stocks...</td>\n",
       "      <td>IFA Magazine</td>\n",
       "      <td>b</td>\n",
       "      <td>ddUyU0VZz0BRneMioxUPQVP6sIxvM</td>\n",
       "      <td>www.ifamagazine.com</td>\n",
       "      <td>1394470371550</td>\n",
       "    </tr>\n",
       "    <tr>\n",
       "      <th>3</th>\n",
       "      <td>4</td>\n",
       "      <td>Fed risks falling 'behind the curve', Charles ...</td>\n",
       "      <td>http://www.ifamagazine.com/news/fed-risks-fall...</td>\n",
       "      <td>IFA Magazine</td>\n",
       "      <td>b</td>\n",
       "      <td>ddUyU0VZz0BRneMioxUPQVP6sIxvM</td>\n",
       "      <td>www.ifamagazine.com</td>\n",
       "      <td>1394470371793</td>\n",
       "    </tr>\n",
       "    <tr>\n",
       "      <th>4</th>\n",
       "      <td>5</td>\n",
       "      <td>Fed's Plosser: Nasty Weather Has Curbed Job Gr...</td>\n",
       "      <td>http://www.moneynews.com/Economy/federal-reser...</td>\n",
       "      <td>Moneynews</td>\n",
       "      <td>b</td>\n",
       "      <td>ddUyU0VZz0BRneMioxUPQVP6sIxvM</td>\n",
       "      <td>www.moneynews.com</td>\n",
       "      <td>1394470372027</td>\n",
       "    </tr>\n",
       "  </tbody>\n",
       "</table>\n",
       "</div>"
      ],
      "text/plain": [
       "   ID                                              TITLE  \\\n",
       "0   1  Fed official says weak data caused by weather,...   \n",
       "1   2  Fed's Charles Plosser sees high bar for change...   \n",
       "2   3  US open: Stocks fall after Fed official hints ...   \n",
       "3   4  Fed risks falling 'behind the curve', Charles ...   \n",
       "4   5  Fed's Plosser: Nasty Weather Has Curbed Job Gr...   \n",
       "\n",
       "                                                 URL          PUBLISHER  \\\n",
       "0  http://www.latimes.com/business/money/la-fi-mo...  Los Angeles Times   \n",
       "1  http://www.livemint.com/Politics/H2EvwJSK2VE6O...           Livemint   \n",
       "2  http://www.ifamagazine.com/news/us-open-stocks...       IFA Magazine   \n",
       "3  http://www.ifamagazine.com/news/fed-risks-fall...       IFA Magazine   \n",
       "4  http://www.moneynews.com/Economy/federal-reser...          Moneynews   \n",
       "\n",
       "  CATEGORY                          STORY             HOSTNAME      TIMESTAMP  \n",
       "0        b  ddUyU0VZz0BRneMioxUPQVP6sIxvM      www.latimes.com  1394470370698  \n",
       "1        b  ddUyU0VZz0BRneMioxUPQVP6sIxvM     www.livemint.com  1394470371207  \n",
       "2        b  ddUyU0VZz0BRneMioxUPQVP6sIxvM  www.ifamagazine.com  1394470371550  \n",
       "3        b  ddUyU0VZz0BRneMioxUPQVP6sIxvM  www.ifamagazine.com  1394470371793  \n",
       "4        b  ddUyU0VZz0BRneMioxUPQVP6sIxvM    www.moneynews.com  1394470372027  "
      ]
     },
     "execution_count": 4,
     "metadata": {},
     "output_type": "execute_result"
    }
   ],
   "source": [
    "titles.iloc[:5,:]"
   ]
  },
  {
   "cell_type": "markdown",
   "metadata": {},
   "source": [
    "Cleaning all headlines takes about 2 hours, so give user option to pull pre-cleaned data directly from GitHub"
   ]
  },
  {
   "cell_type": "code",
   "execution_count": 6,
   "metadata": {
    "collapsed": true
   },
   "outputs": [],
   "source": [
    "download = 0   # Set to 1 to download pre-cleaned titles"
   ]
  },
  {
   "cell_type": "code",
   "execution_count": 7,
   "metadata": {
    "collapsed": false
   },
   "outputs": [
    {
     "name": "stdout",
     "output_type": "stream",
     "text": [
      "Started cleaning headlines...\n",
      "Done cleaning 6.1% of headlines\n",
      "Done cleaning 14.2% of headlines\n",
      "Done cleaning 22.4% of headlines\n",
      "Done cleaning 30.9% of headlines\n",
      "Done cleaning 38.8% of headlines\n",
      "Done cleaning 46.7% of headlines\n",
      "Done cleaning 55.0% of headlines\n",
      "Done cleaning 63.3% of headlines\n",
      "Done cleaning 71.5% of headlines\n",
      "Done cleaning 79.7% of headlines\n",
      "Done cleaning 87.9% of headlines\n",
      "Done cleaning 96.1% of headlines\n",
      "Took 125.1 minutes to clean titles\n"
     ]
    }
   ],
   "source": [
    "if download:\n",
    "    filename3, headers3 = urllib.request.urlretrieve(url+'cleaned_titles.zip', filename='cleaned_titles.zip')\n",
    "    zip_ref = zipfile.ZipFile('cleaned_titles.zip', 'r')\n",
    "    zip_ref.extractall()\n",
    "    zip_ref.close()\n",
    "    headlines = pd.read_csv('cleaned_titles.csv', encoding = 'latin1', keep_default_na = False)\n",
    "    \n",
    "else:\n",
    "    headlines = cleanWords(titles, 'TITLE')\n",
    "    headlines.drop(['URL','STORY','TIMESTAMP','HOSTNAME','ID'], axis=1)"
   ]
  },
  {
   "cell_type": "code",
   "execution_count": 8,
   "metadata": {
    "collapsed": false
   },
   "outputs": [
    {
     "data": {
      "text/html": [
       "<div>\n",
       "<table border=\"1\" class=\"dataframe\">\n",
       "  <thead>\n",
       "    <tr style=\"text-align: right;\">\n",
       "      <th></th>\n",
       "      <th>TITLE</th>\n",
       "      <th>PUBLISHER</th>\n",
       "      <th>CATEGORY</th>\n",
       "      <th>STOPPED_WORDS</th>\n",
       "    </tr>\n",
       "  </thead>\n",
       "  <tbody>\n",
       "    <tr>\n",
       "      <th>0</th>\n",
       "      <td>Fed official says weak data caused by weather,...</td>\n",
       "      <td>Los Angeles Times</td>\n",
       "      <td>b</td>\n",
       "      <td>fed,offici,say,weak,data,caus,weather,slow,taper</td>\n",
       "    </tr>\n",
       "    <tr>\n",
       "      <th>1</th>\n",
       "      <td>Fed's Charles Plosser sees high bar for change...</td>\n",
       "      <td>Livemint</td>\n",
       "      <td>b</td>\n",
       "      <td>fed,charl,plosser,see,high,bar,chang,pace,taper</td>\n",
       "    </tr>\n",
       "    <tr>\n",
       "      <th>2</th>\n",
       "      <td>US open: Stocks fall after Fed official hints ...</td>\n",
       "      <td>IFA Magazine</td>\n",
       "      <td>b</td>\n",
       "      <td>us,open,stock,fall,fed,offici,hint,acceler,taper</td>\n",
       "    </tr>\n",
       "  </tbody>\n",
       "</table>\n",
       "</div>"
      ],
      "text/plain": [
       "                                               TITLE          PUBLISHER  \\\n",
       "0  Fed official says weak data caused by weather,...  Los Angeles Times   \n",
       "1  Fed's Charles Plosser sees high bar for change...           Livemint   \n",
       "2  US open: Stocks fall after Fed official hints ...       IFA Magazine   \n",
       "\n",
       "  CATEGORY                                     STOPPED_WORDS  \n",
       "0        b  fed,offici,say,weak,data,caus,weather,slow,taper  \n",
       "1        b   fed,charl,plosser,see,high,bar,chang,pace,taper  \n",
       "2        b  us,open,stock,fall,fed,offici,hint,acceler,taper  "
      ]
     },
     "execution_count": 8,
     "metadata": {},
     "output_type": "execute_result"
    }
   ],
   "source": [
    "headlines.iloc[:3,:]"
   ]
  },
  {
   "cell_type": "markdown",
   "metadata": {},
   "source": [
    "### Train Classifier"
   ]
  },
  {
   "cell_type": "code",
   "execution_count": 12,
   "metadata": {
    "collapsed": false
   },
   "outputs": [],
   "source": [
    "classifier = NBClassifier(headlines['STOPPED_WORDS'], headlines['CATEGORY'], train_split = 0.8)"
   ]
  },
  {
   "cell_type": "code",
   "execution_count": 13,
   "metadata": {
    "collapsed": false
   },
   "outputs": [
    {
     "name": "stdout",
     "output_type": "stream",
     "text": [
      "Creating PDf for category 1/4\n",
      "Creating PDf for category 2/4\n",
      "Creating PDf for category 3/4\n",
      "Creating PDf for category 4/4\n"
     ]
    }
   ],
   "source": [
    "classifier.trainPDF()"
   ]
  },
  {
   "cell_type": "code",
   "execution_count": 14,
   "metadata": {
    "collapsed": false
   },
   "outputs": [
    {
     "name": "stdout",
     "output_type": "stream",
     "text": [
      "Predicting train data\n",
      "19.0% complete\n",
      "39.1% complete\n",
      "57.6% complete\n",
      "77.4% complete\n",
      "96.9% complete\n",
      "Predicting test data\n",
      "78.3% complete\n"
     ]
    }
   ],
   "source": [
    "classifier.classifyData()"
   ]
  },
  {
   "cell_type": "markdown",
   "metadata": {},
   "source": [
    "Check train and test accuracy"
   ]
  },
  {
   "cell_type": "code",
   "execution_count": 15,
   "metadata": {
    "collapsed": false
   },
   "outputs": [
    {
     "name": "stdout",
     "output_type": "stream",
     "text": [
      "0.909904575237\n",
      "0.904140977488\n"
     ]
    }
   ],
   "source": [
    "print(classifier.train_accuracy)\n",
    "print(classifier.test_accuracy)"
   ]
  },
  {
   "cell_type": "markdown",
   "metadata": {},
   "source": [
    "Let's take a look at some examples of misclassifications"
   ]
  },
  {
   "cell_type": "code",
   "execution_count": 16,
   "metadata": {
    "collapsed": false
   },
   "outputs": [
    {
     "data": {
      "text/html": [
       "<div>\n",
       "<table border=\"1\" class=\"dataframe\">\n",
       "  <thead>\n",
       "    <tr style=\"text-align: right;\">\n",
       "      <th></th>\n",
       "      <th>TITLE</th>\n",
       "      <th>CATEGORY</th>\n",
       "      <th>STOPPED_WORDS</th>\n",
       "      <th>PREDICTED</th>\n",
       "    </tr>\n",
       "  </thead>\n",
       "  <tbody>\n",
       "    <tr>\n",
       "      <th>34</th>\n",
       "      <td>10 Things You Need To Know Before The Opening ...</td>\n",
       "      <td>b</td>\n",
       "      <td>thing,need,know,open,bell</td>\n",
       "      <td>e</td>\n",
       "    </tr>\n",
       "    <tr>\n",
       "      <th>49</th>\n",
       "      <td>Why eBay Spinning Off Paypal Makes Sense</td>\n",
       "      <td>b</td>\n",
       "      <td>ebay,spin,paypal,make,sens</td>\n",
       "      <td>t</td>\n",
       "    </tr>\n",
       "    <tr>\n",
       "      <th>178</th>\n",
       "      <td>Happy 5th birthday, bull market</td>\n",
       "      <td>b</td>\n",
       "      <td>happi,th,birthday,bull,market</td>\n",
       "      <td>e</td>\n",
       "    </tr>\n",
       "    <tr>\n",
       "      <th>225</th>\n",
       "      <td>Hackers Leak Mt. Gox Database, Reveal Blog of ...</td>\n",
       "      <td>b</td>\n",
       "      <td>hacker,leak,mt,gox,databas,reveal,blog,former,ceo</td>\n",
       "      <td>t</td>\n",
       "    </tr>\n",
       "    <tr>\n",
       "      <th>280</th>\n",
       "      <td>Massive hacking attacks revealed</td>\n",
       "      <td>b</td>\n",
       "      <td>massiv,hack,attack,reveal</td>\n",
       "      <td>t</td>\n",
       "    </tr>\n",
       "    <tr>\n",
       "      <th>428</th>\n",
       "      <td>Get on the bus, Gus: US posts record public tr...</td>\n",
       "      <td>b</td>\n",
       "      <td>get,bu,gu,us,post,record,public,transit,use</td>\n",
       "      <td>e</td>\n",
       "    </tr>\n",
       "    <tr>\n",
       "      <th>641</th>\n",
       "      <td>Rand Paul: I wouldn't let Putin get away with ...</td>\n",
       "      <td>b</td>\n",
       "      <td>rand,paul,let,putin,get,away</td>\n",
       "      <td>e</td>\n",
       "    </tr>\n",
       "    <tr>\n",
       "      <th>655</th>\n",
       "      <td>Window on Westminster</td>\n",
       "      <td>b</td>\n",
       "      <td>window,westminst</td>\n",
       "      <td>t</td>\n",
       "    </tr>\n",
       "    <tr>\n",
       "      <th>672</th>\n",
       "      <td>Paul Ryan calls for sanctions against Russian ...</td>\n",
       "      <td>b</td>\n",
       "      <td>paul,ryan,call,sanction,russian,oligarch</td>\n",
       "      <td>e</td>\n",
       "    </tr>\n",
       "    <tr>\n",
       "      <th>1109</th>\n",
       "      <td>Orion Death Stars Destroy Planets Before They ...</td>\n",
       "      <td>t</td>\n",
       "      <td>orion,death,star,destroy,planet,even,form</td>\n",
       "      <td>e</td>\n",
       "    </tr>\n",
       "    <tr>\n",
       "      <th>1110</th>\n",
       "      <td>Real-life ?Death Stars? deadlier than Darth Va...</td>\n",
       "      <td>t</td>\n",
       "      <td>real,life,death,star,deadlier,darth,vader,astr...</td>\n",
       "      <td>e</td>\n",
       "    </tr>\n",
       "    <tr>\n",
       "      <th>1120</th>\n",
       "      <td>'Death Stars' Wreck Havoc in the Orion Nebula</td>\n",
       "      <td>t</td>\n",
       "      <td>death,star,wreck,havoc,orion,nebula</td>\n",
       "      <td>e</td>\n",
       "    </tr>\n",
       "    <tr>\n",
       "      <th>1138</th>\n",
       "      <td>Elephants recognise human voices</td>\n",
       "      <td>t</td>\n",
       "      <td>eleph,recognis,human,voic</td>\n",
       "      <td>e</td>\n",
       "    </tr>\n",
       "    <tr>\n",
       "      <th>1154</th>\n",
       "      <td>Elephants really are intelligent: Creatures ca...</td>\n",
       "      <td>t</td>\n",
       "      <td>eleph,realli,intellig,creatur,guess,age,even,e...</td>\n",
       "      <td>e</td>\n",
       "    </tr>\n",
       "    <tr>\n",
       "      <th>1164</th>\n",
       "      <td>Mt. Gox files bankruptcy in US and faces more ...</td>\n",
       "      <td>t</td>\n",
       "      <td>mt,gox,file,bankruptci,us,face,hack</td>\n",
       "      <td>b</td>\n",
       "    </tr>\n",
       "    <tr>\n",
       "      <th>1167</th>\n",
       "      <td>Mt. Gox Rumored To Have Pocketed Bitcoins Repo...</td>\n",
       "      <td>t</td>\n",
       "      <td>mt,gox,rumor,pocket,bitcoin,report,stolen</td>\n",
       "      <td>b</td>\n",
       "    </tr>\n",
       "    <tr>\n",
       "      <th>1170</th>\n",
       "      <td>Bitcoin Exchange Mt. Gox Moves to Protect US A...</td>\n",
       "      <td>t</td>\n",
       "      <td>bitcoin,exchang,mt,gox,move,protect,us,asset</td>\n",
       "      <td>b</td>\n",
       "    </tr>\n",
       "    <tr>\n",
       "      <th>1173</th>\n",
       "      <td>Mt. Gox files for US bankruptcy</td>\n",
       "      <td>t</td>\n",
       "      <td>mt,gox,file,us,bankruptci</td>\n",
       "      <td>b</td>\n",
       "    </tr>\n",
       "    <tr>\n",
       "      <th>1174</th>\n",
       "      <td>Mt. Gox files US bankruptcy case</td>\n",
       "      <td>t</td>\n",
       "      <td>mt,gox,file,us,bankruptci,case</td>\n",
       "      <td>b</td>\n",
       "    </tr>\n",
       "    <tr>\n",
       "      <th>1175</th>\n",
       "      <td>Bitcoin exchange files for US bankruptcy</td>\n",
       "      <td>t</td>\n",
       "      <td>bitcoin,exchang,file,us,bankruptci</td>\n",
       "      <td>b</td>\n",
       "    </tr>\n",
       "  </tbody>\n",
       "</table>\n",
       "</div>"
      ],
      "text/plain": [
       "                                                  TITLE CATEGORY  \\\n",
       "34    10 Things You Need To Know Before The Opening ...        b   \n",
       "49             Why eBay Spinning Off Paypal Makes Sense        b   \n",
       "178                     Happy 5th birthday, bull market        b   \n",
       "225   Hackers Leak Mt. Gox Database, Reveal Blog of ...        b   \n",
       "280                    Massive hacking attacks revealed        b   \n",
       "428   Get on the bus, Gus: US posts record public tr...        b   \n",
       "641   Rand Paul: I wouldn't let Putin get away with ...        b   \n",
       "655                               Window on Westminster        b   \n",
       "672   Paul Ryan calls for sanctions against Russian ...        b   \n",
       "1109  Orion Death Stars Destroy Planets Before They ...        t   \n",
       "1110  Real-life ?Death Stars? deadlier than Darth Va...        t   \n",
       "1120      'Death Stars' Wreck Havoc in the Orion Nebula        t   \n",
       "1138                   Elephants recognise human voices        t   \n",
       "1154  Elephants really are intelligent: Creatures ca...        t   \n",
       "1164  Mt. Gox files bankruptcy in US and faces more ...        t   \n",
       "1167  Mt. Gox Rumored To Have Pocketed Bitcoins Repo...        t   \n",
       "1170  Bitcoin Exchange Mt. Gox Moves to Protect US A...        t   \n",
       "1173                    Mt. Gox files for US bankruptcy        t   \n",
       "1174                   Mt. Gox files US bankruptcy case        t   \n",
       "1175           Bitcoin exchange files for US bankruptcy        t   \n",
       "\n",
       "                                          STOPPED_WORDS PREDICTED  \n",
       "34                            thing,need,know,open,bell         e  \n",
       "49                           ebay,spin,paypal,make,sens         t  \n",
       "178                       happi,th,birthday,bull,market         e  \n",
       "225   hacker,leak,mt,gox,databas,reveal,blog,former,ceo         t  \n",
       "280                           massiv,hack,attack,reveal         t  \n",
       "428         get,bu,gu,us,post,record,public,transit,use         e  \n",
       "641                        rand,paul,let,putin,get,away         e  \n",
       "655                                    window,westminst         t  \n",
       "672            paul,ryan,call,sanction,russian,oligarch         e  \n",
       "1109          orion,death,star,destroy,planet,even,form         e  \n",
       "1110  real,life,death,star,deadlier,darth,vader,astr...         e  \n",
       "1120                death,star,wreck,havoc,orion,nebula         e  \n",
       "1138                          eleph,recognis,human,voic         e  \n",
       "1154  eleph,realli,intellig,creatur,guess,age,even,e...         e  \n",
       "1164                mt,gox,file,bankruptci,us,face,hack         b  \n",
       "1167          mt,gox,rumor,pocket,bitcoin,report,stolen         b  \n",
       "1170       bitcoin,exchang,mt,gox,move,protect,us,asset         b  \n",
       "1173                          mt,gox,file,us,bankruptci         b  \n",
       "1174                     mt,gox,file,us,bankruptci,case         b  \n",
       "1175                 bitcoin,exchang,file,us,bankruptci         b  "
      ]
     },
     "execution_count": 16,
     "metadata": {},
     "output_type": "execute_result"
    }
   ],
   "source": [
    "indices = list(classifier.misclassified.index)[:10]\n",
    "pd.concat([headlines.iloc[indices,[0,2,3]], classifier.misclassified.iloc[:20,2]], axis = 1)"
   ]
  },
  {
   "cell_type": "markdown",
   "metadata": {},
   "source": [
    "<br>Check to see if classifier also works on random titles:<br><br>"
   ]
  },
  {
   "cell_type": "code",
   "execution_count": 17,
   "metadata": {
    "collapsed": false
   },
   "outputs": [
    {
     "name": "stdout",
     "output_type": "stream",
     "text": [
      "{'b': -44.812632743367146, 't': -48.022133511231836, 'm': -58.28771720505842, 'e': -55.31794230064467}\n"
     ]
    }
   ],
   "source": [
    "print(classifier.predictCats('Apple posts higher returns this quarter'))"
   ]
  },
  {
   "cell_type": "markdown",
   "metadata": {},
   "source": [
    "Great, business has the highest probability"
   ]
  },
  {
   "cell_type": "code",
   "execution_count": 18,
   "metadata": {
    "collapsed": false
   },
   "outputs": [
    {
     "name": "stdout",
     "output_type": "stream",
     "text": [
      "{'b': -71.59521386580798, 't': -67.5631847361503, 'm': -74.84158060779703, 'e': -55.5692844385924}\n"
     ]
    }
   ],
   "source": [
    "print(classifier.predictCats('Tom Cruise stars in upcoming action movie'))"
   ]
  },
  {
   "cell_type": "markdown",
   "metadata": {},
   "source": [
    "Entertainment wins!"
   ]
  }
 ],
 "metadata": {
  "anaconda-cloud": {},
  "kernelspec": {
   "display_name": "Python [Root]",
   "language": "python",
   "name": "Python [Root]"
  },
  "language_info": {
   "codemirror_mode": {
    "name": "ipython",
    "version": 3
   },
   "file_extension": ".py",
   "mimetype": "text/x-python",
   "name": "python",
   "nbconvert_exporter": "python",
   "pygments_lexer": "ipython3",
   "version": "3.5.2"
  }
 },
 "nbformat": 4,
 "nbformat_minor": 0
}
