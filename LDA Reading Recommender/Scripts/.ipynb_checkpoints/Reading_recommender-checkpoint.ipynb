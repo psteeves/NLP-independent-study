{
 "cells": [
  {
   "cell_type": "markdown",
   "metadata": {},
   "source": [
    "# Topic Modeling of American News Articles Using LDA"
   ]
  },
  {
   "cell_type": "markdown",
   "metadata": {},
   "source": [
    "Created by Patrick Steeves for Independent Study with Professor Kanungo <br>\n",
    "George Washington University, 12/23/2017"
   ]
  },
  {
   "cell_type": "markdown",
   "metadata": {},
   "source": [
    "### Setting up"
   ]
  },
  {
   "cell_type": "markdown",
   "metadata": {},
   "source": [
    "Import notebook Module.ipynb, which contains functions to import and clean the data, add features, and more"
   ]
  },
  {
   "cell_type": "code",
   "execution_count": 4,
   "metadata": {
    "collapsed": false
   },
   "outputs": [],
   "source": [
    "%run Module.ipynb"
   ]
  },
  {
   "cell_type": "code",
   "execution_count": null,
   "metadata": {
    "collapsed": true
   },
   "outputs": [],
   "source": [
    "%matplotlib inline"
   ]
  },
  {
   "cell_type": "markdown",
   "metadata": {},
   "source": [
    "### <br> <br> Data import and cleaning"
   ]
  },
  {
   "cell_type": "markdown",
   "metadata": {},
   "source": [
    "The data we have is collected from Kaggle at https://www.kaggle.com/snapcrack/all-the-news <br>\n",
    "It contains 143,000 articles and is available for download as 3 files: articles1.csv, articles2.csv, articles3.csv <br><br> The data was split into smaller subsets and are downloaded here from GitHub"
   ]
  },
  {
   "cell_type": "markdown",
   "metadata": {},
   "source": [
    "Import news articles from CSV"
   ]
  },
  {
   "cell_type": "code",
   "execution_count": null,
   "metadata": {
    "collapsed": false,
    "scrolled": true
   },
   "outputs": [
    {
     "name": "stdout",
     "output_type": "stream",
     "text": [
      "Importing and unzipping file 1/7...\n",
      "Importing and unzipping file 2/7...\n",
      "Importing and unzipping file 3/7...\n",
      "Importing and unzipping file 4/7...\n",
      "Importing and unzipping file 5/7...\n",
      "Importing and unzipping file 6/7...\n",
      "Importing and unzipping file 7/7...\n",
      "Computing word counts\n"
     ]
    }
   ],
   "source": [
    "data = importData()"
   ]
  },
  {
   "cell_type": "code",
   "execution_count": null,
   "metadata": {
    "collapsed": false
   },
   "outputs": [
    {
     "data": {
      "text/plain": [
       "(array([ 14603.,  29646.,  27948.,  23223.,  16881.,  10268.,   6832.,\n",
       "          4111.,   2558.,   1609.]),\n",
       " array([   0,  200,  400,  600,  800, 1000, 1200, 1400, 1600, 1800, 2000]),\n",
       " <a list of 10 Patch objects>)"
      ]
     },
     "execution_count": 7,
     "metadata": {},
     "output_type": "execute_result"
    },
    {
     "data": {
      "image/png": "[encoded data removed]",
      "text/plain": [
       "<matplotlib.figure.Figure at 0x219d5daccf8>"
      ]
     },
     "metadata": {},
     "output_type": "display_data"
    }
   ],
   "source": [
    "plt.hist(data.word_count, bins=[b for b in range(0,2001, 200)])"
   ]
  },
  {
   "cell_type": "markdown",
   "metadata": {},
   "source": [
    "The dataset is too large to train on most local machines, so I will select articles of medium length (200 - 700 words), and I will sample 70% of that data to train my LDA model"
   ]
  },
  {
   "cell_type": "code",
   "execution_count": null,
   "metadata": {
    "collapsed": false
   },
   "outputs": [],
   "source": [
    "data = data.query(\"word_count > 199 and word_count < 701\")\n",
    "data = data.sample(frac = 0.7).reset_index(drop=True)"
   ]
  },
  {
   "cell_type": "code",
   "execution_count": null,
   "metadata": {
    "collapsed": false
   },
   "outputs": [
    {
     "name": "stdout",
     "output_type": "stream",
     "text": [
      "Starting cleaning...\n",
      "Tokenizing...\n",
      "Lemmatizing and filtering stopwords...\n",
      "Took 360 minutes to clean texts\n"
     ]
    }
   ],
   "source": [
    "clean_articles = cleanData(data,'content')\n",
    "del(data)"
   ]
  },
  {
   "cell_type": "markdown",
   "metadata": {},
   "source": [
    "Let's take a look at our data"
   ]
  },
  {
   "cell_type": "code",
   "execution_count": null,
   "metadata": {
    "collapsed": false
   },
   "outputs": [
    {
     "data": {
      "text/html": [
       "<div>\n",
       "<table border=\"1\" class=\"dataframe\">\n",
       "  <thead>\n",
       "    <tr style=\"text-align: right;\">\n",
       "      <th></th>\n",
       "      <th>title</th>\n",
       "      <th>publication</th>\n",
       "      <th>content</th>\n",
       "      <th>word_count</th>\n",
       "      <th>tokens</th>\n",
       "    </tr>\n",
       "  </thead>\n",
       "  <tbody>\n",
       "    <tr>\n",
       "      <th>0</th>\n",
       "      <td>Tillerson Says Iran Nuclear Deal A Failure, Le...</td>\n",
       "      <td>Talking Points Memo</td>\n",
       "      <td>WASHINGTON (AP)  —   Secretary of State Rex Ti...</td>\n",
       "      <td>563</td>\n",
       "      <td>[washington, ap, secretary, state, rex, tiller...</td>\n",
       "    </tr>\n",
       "    <tr>\n",
       "      <th>1</th>\n",
       "      <td>The best looks of Paris fashion week</td>\n",
       "      <td>New York Post</td>\n",
       "      <td>The Paris collections shared a theme: march to...</td>\n",
       "      <td>333</td>\n",
       "      <td>[paris, collection, shared, theme, march, beat...</td>\n",
       "    </tr>\n",
       "    <tr>\n",
       "      <th>2</th>\n",
       "      <td>Kuwait was banned from the Olympics. This is t...</td>\n",
       "      <td>Washington Post</td>\n",
       "      <td>Mohammed Madouh sat alone in the dark in...</td>\n",
       "      <td>323</td>\n",
       "      <td>[mohammed, madouh, sat, alone, dark, living, r...</td>\n",
       "    </tr>\n",
       "  </tbody>\n",
       "</table>\n",
       "</div>"
      ],
      "text/plain": [
       "                                               title          publication  \\\n",
       "0  Tillerson Says Iran Nuclear Deal A Failure, Le...  Talking Points Memo   \n",
       "1               The best looks of Paris fashion week        New York Post   \n",
       "2  Kuwait was banned from the Olympics. This is t...      Washington Post   \n",
       "\n",
       "                                             content  word_count  \\\n",
       "0  WASHINGTON (AP)  —   Secretary of State Rex Ti...         563   \n",
       "1  The Paris collections shared a theme: march to...         333   \n",
       "2        Mohammed Madouh sat alone in the dark in...         323   \n",
       "\n",
       "                                              tokens  \n",
       "0  [washington, ap, secretary, state, rex, tiller...  \n",
       "1  [paris, collection, shared, theme, march, beat...  \n",
       "2  [mohammed, madouh, sat, alone, dark, living, r...  "
      ]
     },
     "execution_count": 10,
     "metadata": {},
     "output_type": "execute_result"
    }
   ],
   "source": [
    "clean_articles.iloc[:3,:]"
   ]
  },
  {
   "cell_type": "markdown",
   "metadata": {},
   "source": [
    "Add bigrams to articles"
   ]
  },
  {
   "cell_type": "code",
   "execution_count": null,
   "metadata": {
    "collapsed": true
   },
   "outputs": [],
   "source": [
    "bigrams, complete_data = addBigrams(clean_articles, 'tokens')\n",
    "del(clean_articles)"
   ]
  },
  {
   "cell_type": "markdown",
   "metadata": {},
   "source": [
    "The above code recognizes sets of consecutive words that are in our dataset at least 250 articles. These couples are returned as one word separated by a hyphen, as illustrated below"
   ]
  },
  {
   "cell_type": "code",
   "execution_count": null,
   "metadata": {
    "collapsed": false
   },
   "outputs": [
    {
     "name": "stdout",
     "output_type": "stream",
     "text": [
      "['new_york', 'north_korea', 'not', 'a', 'bigram']\n"
     ]
    }
   ],
   "source": [
    "print(bigrams['new','york','north','korea', 'not','a','bigram'])"
   ]
  },
  {
   "cell_type": "markdown",
   "metadata": {},
   "source": [
    "Create bag of words representation for articles"
   ]
  },
  {
   "cell_type": "code",
   "execution_count": null,
   "metadata": {
    "collapsed": false
   },
   "outputs": [],
   "source": [
    "training_data, dictionary = createBOW(complete_data, 'tokens')"
   ]
  },
  {
   "cell_type": "markdown",
   "metadata": {},
   "source": [
    "Our data is now ready to train the LDA model"
   ]
  },
  {
   "cell_type": "code",
   "execution_count": null,
   "metadata": {
    "collapsed": false
   },
   "outputs": [
    {
     "data": {
      "text/html": [
       "<div>\n",
       "<table border=\"1\" class=\"dataframe\">\n",
       "  <thead>\n",
       "    <tr style=\"text-align: right;\">\n",
       "      <th></th>\n",
       "      <th>title</th>\n",
       "      <th>publication</th>\n",
       "      <th>content</th>\n",
       "      <th>word_count</th>\n",
       "      <th>tokens</th>\n",
       "      <th>bow</th>\n",
       "    </tr>\n",
       "  </thead>\n",
       "  <tbody>\n",
       "    <tr>\n",
       "      <th>10</th>\n",
       "      <td>Latest terror attack exposes the real barrier ...</td>\n",
       "      <td>New York Post</td>\n",
       "      <td>Fresh tragedy struck Israel this weekend  —   ...</td>\n",
       "      <td>276</td>\n",
       "      <td>[fresh, tragedy, struck, israel, weekend, brin...</td>\n",
       "      <td>[(26, 1), (41, 1), (104, 1), (347, 1), (391, 5...</td>\n",
       "    </tr>\n",
       "    <tr>\n",
       "      <th>11</th>\n",
       "      <td>ICYMI: The drone that almost killed bin Laden</td>\n",
       "      <td>Reuters</td>\n",
       "      <td>Months before   U. S. Air Force captain Scott ...</td>\n",
       "      <td>214</td>\n",
       "      <td>[month, air, force, captain, scott, swanson, p...</td>\n",
       "      <td>[(31, 1), (41, 1), (43, 1), (189, 1), (228, 1)...</td>\n",
       "    </tr>\n",
       "    <tr>\n",
       "      <th>12</th>\n",
       "      <td>Cheers, tears for U.S. Army convoy in Europe</td>\n",
       "      <td>CNN</td>\n",
       "      <td>(CNN) A convoy of U. S. Army armored vehicles...</td>\n",
       "      <td>320</td>\n",
       "      <td>[cnn, convoy, army, armored, vehicle, drawing,...</td>\n",
       "      <td>[(26, 1), (191, 1), (221, 1), (222, 1), (347, ...</td>\n",
       "    </tr>\n",
       "  </tbody>\n",
       "</table>\n",
       "</div>"
      ],
      "text/plain": [
       "                                                title    publication  \\\n",
       "10  Latest terror attack exposes the real barrier ...  New York Post   \n",
       "11      ICYMI: The drone that almost killed bin Laden        Reuters   \n",
       "12       Cheers, tears for U.S. Army convoy in Europe            CNN   \n",
       "\n",
       "                                              content  word_count  \\\n",
       "10  Fresh tragedy struck Israel this weekend  —   ...         276   \n",
       "11  Months before   U. S. Air Force captain Scott ...         214   \n",
       "12   (CNN) A convoy of U. S. Army armored vehicles...         320   \n",
       "\n",
       "                                               tokens  \\\n",
       "10  [fresh, tragedy, struck, israel, weekend, brin...   \n",
       "11  [month, air, force, captain, scott, swanson, p...   \n",
       "12  [cnn, convoy, army, armored, vehicle, drawing,...   \n",
       "\n",
       "                                                  bow  \n",
       "10  [(26, 1), (41, 1), (104, 1), (347, 1), (391, 5...  \n",
       "11  [(31, 1), (41, 1), (43, 1), (189, 1), (228, 1)...  \n",
       "12  [(26, 1), (191, 1), (221, 1), (222, 1), (347, ...  "
      ]
     },
     "execution_count": 14,
     "metadata": {},
     "output_type": "execute_result"
    }
   ],
   "source": [
    "training_data.iloc[10:13,:]"
   ]
  },
  {
   "cell_type": "markdown",
   "metadata": {},
   "source": [
    "### <br><br> LDA Model"
   ]
  },
  {
   "cell_type": "markdown",
   "metadata": {},
   "source": [
    "Check that our dictionary is filled"
   ]
  },
  {
   "cell_type": "code",
   "execution_count": null,
   "metadata": {
    "collapsed": false
   },
   "outputs": [
    {
     "data": {
      "text/plain": [
       "'comedy'"
      ]
     },
     "execution_count": 15,
     "metadata": {},
     "output_type": "execute_result"
    }
   ],
   "source": [
    "dictionary[0]"
   ]
  },
  {
   "cell_type": "code",
   "execution_count": null,
   "metadata": {
    "collapsed": false
   },
   "outputs": [
    {
     "name": "stdout",
     "output_type": "stream",
     "text": [
      "Our training data has 8206 distinct words\n",
      "Our corpus has 48954 documents\n"
     ]
    }
   ],
   "source": [
    "print(\"Our training data has {} distinct words\".format(len(dictionary)))\n",
    "print(\"Our corpus has {} documents\".format(len(training_data)))"
   ]
  },
  {
   "cell_type": "markdown",
   "metadata": {},
   "source": [
    "Set parameters for LDA model training"
   ]
  },
  {
   "cell_type": "code",
   "execution_count": null,
   "metadata": {
    "collapsed": true
   },
   "outputs": [],
   "source": [
    "id2word = dictionary.id2token   # Dictionary with BOW token definitions"
   ]
  },
  {
   "cell_type": "code",
   "execution_count": null,
   "metadata": {
    "collapsed": true
   },
   "outputs": [],
   "source": [
    "num_topics = 18    # This number of topics led to the most interpretable topics\n",
    "chunksize = 10000\n",
    "passes = 15\n",
    "iterations = 300"
   ]
  },
  {
   "cell_type": "markdown",
   "metadata": {},
   "source": [
    "Time to train model! To obtain the best (most interpretable) results, the moost important parameters to tune were the minimum and maximum frequency of a word to be included in our dictionary, and the number of topics that the LDA finds"
   ]
  },
  {
   "cell_type": "code",
   "execution_count": null,
   "metadata": {
    "collapsed": false
   },
   "outputs": [
    {
     "name": "stdout",
     "output_type": "stream",
     "text": [
      "Took 122.38163830836613 minutes to train model\n"
     ]
    }
   ],
   "source": [
    "from gensim.models import LdaModel\n",
    "\n",
    "start = time.time()\n",
    "model = LdaModel(corpus = training_data['bow'], num_topics = num_topics, id2word = id2word, chunksize = chunksize, iterations = iterations, passes = passes)\n",
    "print(\"Took {} minutes to train model\".format((time.time()-start)/60))"
   ]
  },
  {
   "cell_type": "markdown",
   "metadata": {},
   "source": [
    "Print resulting topics. As assumed in our model, our articles can be composed of 20 different topics. These topics are generated by the following word distributions, which are easily interpretable. The first topic, for example, is the judiciary. The second one is foreign conflicts, and so on"
   ]
  },
  {
   "cell_type": "code",
   "execution_count": null,
   "metadata": {
    "collapsed": false
   },
   "outputs": [
    {
     "name": "stdout",
     "output_type": "stream",
     "text": [
      "Topic 1: \n",
      "0.017*\"police\" + 0.009*\"told\" + 0.008*\"officer\" + 0.007*\"two\" + 0.007*\"according\" + 0.006*\"one\" + 0.005*\"reported\" + 0.005*\"man\" + 0.005*\"family\" + 0.005*\"authority\" + 0.005*\"report\" + 0.004*\"county\" + 0.004*\"official\" + 0.004*\"found\" + 0.004*\"death\" + 0.004*\"time\" + 0.004*\"home\" + 0.004*\"charge\" + 0.004*\"victim\" + 0.004*\"child\" + 0.004*\"people\" + 0.004*\"shot\" + 0.004*\"also\" + 0.004*\"arrested\" + 0.004*\"incident\"\n",
      "\n",
      "Topic 2: \n",
      "0.016*\"state\" + 0.011*\"attack\" + 0.010*\"military\" + 0.008*\"government\" + 0.008*\"force\" + 0.008*\"country\" + 0.007*\"united\" + 0.007*\"syria\" + 0.007*\"group\" + 0.007*\"islamic\" + 0.007*\"war\" + 0.006*\"official\" + 0.006*\"isi\" + 0.006*\"iran\" + 0.006*\"united_state\" + 0.006*\"security\" + 0.005*\"u\" + 0.005*\"president\" + 0.005*\"syrian\" + 0.005*\"china\" + 0.005*\"russia\" + 0.005*\"islamic_state\" + 0.005*\"terrorist\" + 0.004*\"iraq\" + 0.004*\"russian\"\n",
      "\n",
      "Topic 3: \n",
      "0.020*\"north\" + 0.019*\"gun\" + 0.016*\"korea\" + 0.012*\"flight\" + 0.011*\"north_korea\" + 0.010*\"south\" + 0.008*\"plane\" + 0.008*\"nuclear\" + 0.008*\"missile\" + 0.008*\"airline\" + 0.007*\"korean\" + 0.007*\"air\" + 0.006*\"passenger\" + 0.006*\"airport\" + 0.006*\"kim\" + 0.006*\"space\" + 0.006*\"china\" + 0.005*\"test\" + 0.005*\"second\" + 0.005*\"weapon\" + 0.005*\"would\" + 0.005*\"sea\" + 0.005*\"u\" + 0.005*\"united\" + 0.004*\"control\"\n",
      "\n",
      "Topic 4: \n",
      "0.017*\"woman\" + 0.015*\"school\" + 0.013*\"student\" + 0.013*\"people\" + 0.008*\"university\" + 0.008*\"child\" + 0.007*\"say\" + 0.007*\"one\" + 0.006*\"like\" + 0.006*\"american\" + 0.006*\"right\" + 0.005*\"college\" + 0.005*\"think\" + 0.005*\"even\" + 0.005*\"men\" + 0.005*\"life\" + 0.005*\"make\" + 0.005*\"would\" + 0.005*\"many\" + 0.005*\"way\" + 0.005*\"want\" + 0.005*\"thing\" + 0.004*\"know\" + 0.004*\"white\" + 0.004*\"young\"\n",
      "\n",
      "Topic 5: \n",
      "0.032*\"percent\" + 0.011*\"rate\" + 0.010*\"market\" + 0.008*\"year\" + 0.008*\"oil\" + 0.007*\"new\" + 0.007*\"price\" + 0.007*\"bank\" + 0.006*\"last\" + 0.006*\"economy\" + 0.006*\"since\" + 0.006*\"wednesday\" + 0.005*\"stock\" + 0.005*\"fed\" + 0.005*\"growth\" + 0.005*\"month\" + 0.005*\"week\" + 0.005*\"billion\" + 0.005*\"mexico\" + 0.005*\"fell\" + 0.004*\"expected\" + 0.004*\"high\" + 0.004*\"average\" + 0.004*\"low\" + 0.004*\"index\"\n",
      "\n",
      "Topic 6: \n",
      "0.010*\"country\" + 0.010*\"minister\" + 0.009*\"european\" + 0.008*\"migrant\" + 0.007*\"israel\" + 0.007*\"party\" + 0.007*\"government\" + 0.006*\"europe\" + 0.006*\"would\" + 0.006*\"prime\" + 0.006*\"year\" + 0.006*\"eu\" + 0.006*\"london\" + 0.005*\"refugee\" + 0.005*\"french\" + 0.005*\"britain\" + 0.005*\"france\" + 0.005*\"british\" + 0.005*\"germany\" + 0.005*\"leader\" + 0.005*\"people\" + 0.005*\"union\" + 0.005*\"prime_minister\" + 0.005*\"german\" + 0.005*\"world\"\n",
      "\n",
      "Topic 7: \n",
      "0.010*\"game\" + 0.008*\"year\" + 0.007*\"team\" + 0.006*\"first\" + 0.006*\"one\" + 0.006*\"film\" + 0.006*\"show\" + 0.006*\"season\" + 0.006*\"time\" + 0.005*\"last\" + 0.005*\"player\" + 0.005*\"play\" + 0.005*\"two\" + 0.004*\"get\" + 0.004*\"star\" + 0.004*\"would\" + 0.004*\"like\" + 0.004*\"back\" + 0.004*\"going\" + 0.004*\"movie\" + 0.003*\"also\" + 0.003*\"fan\" + 0.003*\"best\" + 0.003*\"new\" + 0.003*\"second\"\n",
      "\n",
      "Topic 8: \n",
      "0.011*\"say\" + 0.010*\"one\" + 0.010*\"like\" + 0.008*\"new\" + 0.007*\"year\" + 0.007*\"time\" + 0.005*\"day\" + 0.005*\"people\" + 0.005*\"get\" + 0.004*\"first\" + 0.004*\"life\" + 0.004*\"even\" + 0.004*\"make\" + 0.004*\"way\" + 0.003*\"home\" + 0.003*\"world\" + 0.003*\"also\" + 0.003*\"thing\" + 0.003*\"back\" + 0.003*\"go\" + 0.003*\"look\" + 0.003*\"would\" + 0.003*\"around\" + 0.003*\"see\" + 0.003*\"work\"\n",
      "\n",
      "Topic 9: \n",
      "0.064*\"clinton\" + 0.023*\"hillary\" + 0.017*\"hillary_clinton\" + 0.016*\"email\" + 0.015*\"campaign\" + 0.011*\"sander\" + 0.009*\"fbi\" + 0.009*\"state\" + 0.009*\"democratic\" + 0.006*\"comey\" + 0.006*\"foundation\" + 0.006*\"department\" + 0.006*\"investigation\" + 0.006*\"secretary\" + 0.006*\"presidential\" + 0.005*\"former\" + 0.005*\"information\" + 0.004*\"time\" + 0.004*\"election\" + 0.004*\"bernie\" + 0.004*\"would\" + 0.004*\"bill\" + 0.004*\"classified\" + 0.004*\"private\" + 0.004*\"new\"\n",
      "\n",
      "Topic 10: \n",
      "0.014*\"would\" + 0.011*\"tax\" + 0.009*\"bill\" + 0.009*\"plan\" + 0.007*\"american\" + 0.007*\"care\" + 0.007*\"year\" + 0.007*\"health\" + 0.007*\"job\" + 0.007*\"state\" + 0.007*\"people\" + 0.006*\"million\" + 0.005*\"government\" + 0.005*\"new\" + 0.005*\"cost\" + 0.005*\"obamacare\" + 0.005*\"worker\" + 0.005*\"money\" + 0.005*\"change\" + 0.005*\"pay\" + 0.005*\"say\" + 0.005*\"get\" + 0.005*\"republican\" + 0.004*\"program\" + 0.004*\"policy\"\n",
      "\n",
      "Topic 11: \n",
      "0.021*\"court\" + 0.015*\"state\" + 0.015*\"law\" + 0.011*\"federal\" + 0.009*\"judge\" + 0.008*\"justice\" + 0.008*\"case\" + 0.007*\"would\" + 0.007*\"order\" + 0.007*\"department\" + 0.006*\"government\" + 0.006*\"attorney\" + 0.006*\"supreme\" + 0.006*\"supreme_court\" + 0.006*\"new\" + 0.006*\"legal\" + 0.005*\"right\" + 0.005*\"lawsuit\" + 0.005*\"decision\" + 0.005*\"immigration\" + 0.004*\"lawyer\" + 0.004*\"executive\" + 0.004*\"public\" + 0.004*\"rule\" + 0.004*\"statement\"\n",
      "\n",
      "Topic 12: \n",
      "0.036*\"trump\" + 0.019*\"republican\" + 0.012*\"vote\" + 0.012*\"voter\" + 0.012*\"candidate\" + 0.011*\"election\" + 0.011*\"party\" + 0.011*\"state\" + 0.010*\"cruz\" + 0.010*\"campaign\" + 0.009*\"donald\" + 0.009*\"donald_trump\" + 0.009*\"presidential\" + 0.008*\"clinton\" + 0.008*\"percent\" + 0.008*\"poll\" + 0.007*\"democrat\" + 0.006*\"nominee\" + 0.006*\"would\" + 0.006*\"primary\" + 0.006*\"democratic\" + 0.006*\"gop\" + 0.005*\"new\" + 0.005*\"support\" + 0.005*\"win\"\n",
      "\n",
      "Topic 13: \n",
      "0.010*\"health\" + 0.009*\"study\" + 0.009*\"say\" + 0.008*\"year\" + 0.008*\"people\" + 0.007*\"drug\" + 0.007*\"water\" + 0.006*\"found\" + 0.005*\"research\" + 0.005*\"also\" + 0.005*\"researcher\" + 0.005*\"medical\" + 0.005*\"according\" + 0.005*\"disease\" + 0.005*\"state\" + 0.005*\"report\" + 0.005*\"patient\" + 0.004*\"zika\" + 0.004*\"doctor\" + 0.004*\"may\" + 0.004*\"scientist\" + 0.004*\"new\" + 0.004*\"case\" + 0.004*\"woman\" + 0.004*\"one\"\n",
      "\n",
      "Topic 14: \n",
      "0.022*\"news\" + 0.019*\"twitter\" + 0.017*\"trump\" + 0.013*\"breitbart\" + 0.011*\"medium\" + 0.009*\"fox\" + 0.008*\"2016\" + 0.008*\"follow\" + 0.008*\"people\" + 0.007*\"donald\" + 0.007*\"show\" + 0.006*\"time\" + 0.006*\"think\" + 0.006*\"donald_trump\" + 0.005*\"breitbart_news\" + 0.005*\"know\" + 0.005*\"like\" + 0.005*\"going\" + 0.005*\"fox_news\" + 0.005*\"pic\" + 0.005*\"host\" + 0.005*\"2017\" + 0.004*\"story\" + 0.004*\"new\" + 0.004*\"tweet\"\n",
      "\n",
      "Topic 15: \n",
      "0.058*\"trump\" + 0.027*\"president\" + 0.015*\"house\" + 0.015*\"obama\" + 0.011*\"white\" + 0.010*\"white_house\" + 0.009*\"donald\" + 0.007*\"administration\" + 0.006*\"would\" + 0.006*\"campaign\" + 0.005*\"donald_trump\" + 0.005*\"mr\" + 0.005*\"told\" + 0.005*\"republican\" + 0.005*\"washington\" + 0.005*\"committee\" + 0.005*\"former\" + 0.004*\"russia\" + 0.004*\"russian\" + 0.004*\"national\" + 0.004*\"time\" + 0.004*\"official\" + 0.004*\"also\" + 0.004*\"u\" + 0.004*\"press\"\n",
      "\n",
      "Topic 16: \n",
      "0.013*\"company\" + 0.013*\"facebook\" + 0.009*\"user\" + 0.009*\"apple\" + 0.007*\"google\" + 0.006*\"technology\" + 0.006*\"data\" + 0.006*\"new\" + 0.005*\"also\" + 0.005*\"video\" + 0.005*\"information\" + 0.005*\"internet\" + 0.005*\"social\" + 0.005*\"uber\" + 0.005*\"phone\" + 0.005*\"system\" + 0.005*\"service\" + 0.005*\"twitter\" + 0.005*\"online\" + 0.004*\"medium\" + 0.004*\"account\" + 0.004*\"tech\" + 0.004*\"like\" + 0.004*\"one\" + 0.004*\"news\"\n",
      "\n",
      "Topic 17: \n",
      "0.012*\"people\" + 0.012*\"police\" + 0.011*\"city\" + 0.010*\"black\" + 0.008*\"protest\" + 0.008*\"muslim\" + 0.008*\"group\" + 0.006*\"attack\" + 0.006*\"violence\" + 0.006*\"protester\" + 0.006*\"community\" + 0.006*\"officer\" + 0.005*\"church\" + 0.005*\"life\" + 0.005*\"event\" + 0.005*\"shooting\" + 0.004*\"right\" + 0.004*\"law\" + 0.004*\"one\" + 0.004*\"mayor\" + 0.004*\"also\" + 0.004*\"day\" + 0.004*\"woman\" + 0.004*\"new\" + 0.004*\"video\"\n",
      "\n",
      "Topic 18: \n",
      "0.024*\"company\" + 0.015*\"million\" + 0.011*\"billion\" + 0.010*\"year\" + 0.007*\"business\" + 0.007*\"sale\" + 0.007*\"new\" + 0.007*\"deal\" + 0.006*\"percent\" + 0.006*\"bank\" + 0.006*\"firm\" + 0.006*\"share\" + 0.005*\"market\" + 0.005*\"last\" + 0.005*\"according\" + 0.005*\"would\" + 0.005*\"source\" + 0.005*\"executive\" + 0.005*\"also\" + 0.004*\"wednesday\" + 0.004*\"inc\" + 0.004*\"investor\" + 0.004*\"price\" + 0.004*\"financial\" + 0.004*\"group\"\n",
      "\n"
     ]
    }
   ],
   "source": [
    "for i in range(num_topics):\n",
    "    print('Topic {}: \\n'.format(i+1)+model.print_topic(i,topn=25)+'\\n')"
   ]
  },
  {
   "cell_type": "markdown",
   "metadata": {},
   "source": [
    "For each of our articles, compute its PDF over topics"
   ]
  },
  {
   "cell_type": "code",
   "execution_count": 30,
   "metadata": {
    "collapsed": false
   },
   "outputs": [],
   "source": [
    "training_data['topics'] = getDocTopics(training_data['bow'], model)"
   ]
  },
  {
   "cell_type": "markdown",
   "metadata": {},
   "source": [
    "### <br><br>Recommending further articles to readers"
   ]
  },
  {
   "cell_type": "markdown",
   "metadata": {
    "collapsed": true
   },
   "source": [
    "The code below returns the three most similar articles as assessed by our model. It uses functionality defined in the module notebook"
   ]
  },
  {
   "cell_type": "markdown",
   "metadata": {},
   "source": [
    "Let's try with some randomly selected articles"
   ]
  },
  {
   "cell_type": "code",
   "execution_count": 37,
   "metadata": {
    "collapsed": false
   },
   "outputs": [
    {
     "data": {
      "text/plain": [
       "'Seoul (CNN) South Korean President Park   has been abandoned by nearly a quarter of the lawmakers in her party. The blow comes days after Park was impeached for sharing official state documents with Choi   a confidante of the President who has been described as a   figure.    lawmakers said Tuesday that they planned to quit Park’s ruling Saenuri Party, which held 128 of the 300 seats in Parliament before the announcement. ”Those who remain loyal to President Park within Saenuri Party have forgotten about the true value of being conservative and, in result, lost the faith of the people,” said Member of Parliament Choung   at a news conference announcing the new party. Choi goes to court, Choi had her first court appearance on December 19. She’s been charged with abuse of power, coercion, attempted coercion and fraud. Her lawyers have denied the charges. Choi is the daughter Choi   a controversial figure who led a religious movement that started in the 1970s, anointing himself a modern day Buddha. The elder Choi first became close with Park following the death of her mother at the hands of a North Korean assassin in 1974, while Park’s father, dictator Park   was president (he was assassinated by his own intelligence chief.) Allegations surfaced about the younger Choi’s improper access after an abandoned computer believed to be Choi’s, and containing secret documents, was found by   JTBC. Choung, the MP who left the Saenuri party, said the scandal represents the ”the worst abuse of the Constitution in history.” Park would later apologized for the scandal. Choi was arrested and charged, but public pressure continued to mount.  South Korean presidents are immune from prosecution, but when attorneys in the probe wanted to speak with Park as a suspect in the ongoing corruption probe, her lawyers said she was happy to help, but too busy to meet with them. Parliament voted to impeach Park, the country’s first female leader, on December 9 by a vote of 234 to 56. ”I solemnly accept the voices of the National Assembly and the people and sincerely hope that the current confusion will come to an end in an orderly manner,” Park said after the vote. '"
      ]
     },
     "execution_count": 37,
     "metadata": {},
     "output_type": "execute_result"
    }
   ],
   "source": [
    "article1 = round(np.random.rand()*len(training_data))\n",
    "training_data.iloc[article1,2]"
   ]
  },
  {
   "cell_type": "code",
   "execution_count": 38,
   "metadata": {
    "collapsed": false
   },
   "outputs": [
    {
     "name": "stdout",
     "output_type": "stream",
     "text": [
      "Dozens of people are feared to have drowned after a rubber boat carrying migrants and refugees from Libya sank in the Mediterranean. The sole survivor  —   a    Gambian boy  —   told rescuers that 146 other people were on board when the boat sank.  A Spanish frigate, the Canarias, found the boy hanging on to a piece of debris in the sea on Tuesday. He was transferred to an Italian Coast Guard ship and brought to the Sicilian island of Lampedusa early on Wednesday.  “He was very tired when they found him. He’s resting now, so we’ll have more details later,” said the International Organisation for Migration (IOM) spokesman Flavio Di Giacomo in Rome, after speaking to staff in Lampedusa.  “The boy said they left Sabratha, Libya, a couple of days ago on a rubber boat with 147   Africans on board, including five children and some pregnant women,” Di Giacomo said.  In the past two days, rescuers have picked up more than 1, 100 migrants at sea and recovered one body, Italy’s Coast Guard said. The Coast Guard did not comment on the latest shipwreck. So far this year nearly 600 migrants have died trying to reach Italy from North Africa, IOM estimates, after 4, 600 deaths last year. Migrant arrivals to Italy are up more than 50% this year on the same period of last year.  Early on Wednesday the Golfo Azzurro, a humanitarian vessel, rescued about 400 migrants  —   mainly from Morocco, Algeria, Libya, Gambia and Bangladesh  —   including 16 women and two children.  They were found drifti\n",
      "\n",
      "\n",
      "An “unprecedented” number of people tried to cross the Mediterranean over the Easter weekend this year, a migrant charity has said. [The Migrant Offshore Aid Station (MOAS) said they went to the aid of between 1, 500 and 1, 800 men, women, and children on seven rubber and two wooden vessels over the weekend, picking up 453 on their own ship and providing life jackets and other provisions to around 1, 000 more.  Meanwhile, in the central Mediterranean, MOAS reported 2, 074 rescues conducted by “various    (SAR) assets on Friday, including 134 rescued by the Phoenix”. The charity said the situation had been a “24 hours marathon of continuous rescue operations” in what was “set to be the latest marker in the   escalation of this   humanitarian crisis at sea”. Christopher Catrambone, the group’s founder, said: “Nobody has ever seen anything like what we are witnessing this weekend. “It is a miracle that we have managed to rescue everyone with no casualties today. “We are still conducting operations with a new boat contact spotted early this morning. “The professional conduct and tireless efforts of our crew are to thank for the many lives saved today. ” So far this year, some 29, 000 migrants have arrived in Italy alone after being picked up by European ships and private charity vessels, with numbers expected to rocket as weather conditions improve during spring. The figures will cause concern that Europe’s migrant crisis will intensify once again this coming summer, as hundreds \n",
      "\n",
      "\n",
      "Police this week busted the wannabe Führer whose  . The man, who claimed his name was Harald Hitler, was arrested Monday on charges of glorifying the Nazi era,  . The    dopey doppelgänger sported the dictator’s signature ‘stache and   hair as he had his photograph taken outside the house in Braunau am Inn in which Adolf Hitler was born. He had recently moved to the town of 17, 000 inhabitants on the German border and also had been spotted in Vienna and Graz, police spokesman David Furtner told the BBC. “The young man knows exactly what he is doing,” Furtner said. Wearing a dark military outfit, the   Hitler also was seen browsing magazines about World War II. He also went to a local pub, where he insisted on being served “Austrian mineral water,”  . Adolf Hitler committed suicide in a Berlin bunker in 1945. Two years later, an Austrian law made it illegal to promote Nazi ideology. “It was obvious that he glorified Hitler,” Furtner told French press agency AFP. Adolf Hitler’s birth home has long been the subject of legal wrangling. The Austrian government voted in December to buy the dilapidated,   building, which it has rented from Gerlinde Pommer since 1972. It wants to raze the building to prevent Nazi sympathizers from making pilgrimages to the site. But Pommer last month launched proceedings against the expropriation, arguing it was unconstitutional. The court has yet to rule on the case.\n"
     ]
    }
   ],
   "source": [
    "similar1, similar2, similar3 = similarArticles(article1)\n",
    "print(training_data.iloc[similar1,2][:1500])\n",
    "print('\\n')\n",
    "print(training_data.iloc[similar2,2][:1500])\n",
    "print('\\n')\n",
    "print(training_data.iloc[similar3,2][:1500])"
   ]
  },
  {
   "cell_type": "markdown",
   "metadata": {},
   "source": [
    "<br>Nice! The articles are all on topic. Let's try another one"
   ]
  },
  {
   "cell_type": "code",
   "execution_count": 33,
   "metadata": {
    "collapsed": false
   },
   "outputs": [
    {
     "data": {
      "text/plain": [
       "'A homeless woman slashed a mother who was with her baby in the face on a 5 train Sunday morning because the victim did not want to sit next to her, according to a   police source. Victim Anna Martinez, 31, was on a southbound train with her    baby at around 11 a. m. She got up to move away from a homeless woman, who flew into a rage and stabbed her, the source said. “She didn’t want to sit next to a homeless person,” the source said, adding that the homeless woman was “acting erratically. ” Martinez’s mom Anna Flores broke down in tears describing what happened. “My daughter [was] slashed in the face and she had her baby with her,” grieved Flores, who showed up to the scene with her husband to pick up the baby while Martinez was taken to the hospital. “I don’t believe this. ” Martinez, who suffered nerve damage, was taken to Bellevue Hospital where she received 30 stitches, the source said. The baby was in a stroller at the time, Flores said. The attacker fled the train when it pulled into Grand Central. Police broadcast her description citywide  —   including the fact she was wearing a faded red,   shirt with the number 10 on it  —   and she was arrested at the Port Authority Bus Terminal after cops spotted her acting erratically, the source said.'"
      ]
     },
     "execution_count": 33,
     "metadata": {},
     "output_type": "execute_result"
    }
   ],
   "source": [
    "article2 = round(np.random.randn()*len(training_data))\n",
    "training_data.iloc[article2,2]"
   ]
  },
  {
   "cell_type": "code",
   "execution_count": 34,
   "metadata": {
    "collapsed": false
   },
   "outputs": [
    {
     "name": "stdout",
     "output_type": "stream",
     "text": [
      "Derrick Dearman was arrested in Mississippi and charged with six counts of capital murder of the five bodies that were found at a Citronelle, Alabama home, including the unborn baby of a pregnant woman. Capt. Paul Burch of the Mobile County Sheriff’s Office said that Dearman turned himself in to authorities in Mississippi and confessed to the murders. Burch said that Dearman had an extensive criminal history and had an outstanding warrant for burglary, according to  . According to AL. com, Burch said that authorities are still working to identify the bodies and that a   old baby was rescued from the home unharmed in the attack. It’s believed that Dearman knew the victims. ”Given the way the scene looks, we’re going to be here a couple of days,” Burch told reporters. ”It’s obviously a horrific scene.” Mobile County District Attorney Ashley Rich said it was the worst crime she’s seen in her 20 years as a prosecutor. She said that five people were “brutally and viciously murdered. ” Authorities have yet to reveal much details about the murder, but Burch said that guns and another type of weapon was used in the killings. He described the scene as “horrible. ” Police were first notified of the murders when a woman walked into the Citronelle Police Department earlier Saturday and said she had been kidnapped late Friday night or Saturday morning and was able to get away from her kidnapper. The details from her account led police to the Citronelle home. Investigators believe that the\n",
      "\n",
      "\n",
      "An    Queens cougar  —   whose hulking   boyfriend was arrested over the weekend for beating her up  —   was found dead in her apartment Thursday,   sources said. Janina Olszweka was lifeless and had visible trauma to her head and body when her son found her, sources said. The victim’s boyfriend, Marek Piotrkowicz, had been arrested for domestic assault against her five days earlier, allegedly leaving her with bruises on her face and minor cuts. Piotrkowicz, 56, was charged with assault and endangerment in the incident, then released by Queens Criminal Judge John Zoll on his own recognizance hours later, according to the Queens District Attorney’s Office. Prosecutors had asked for $5, 000 bail. The    boyfriend has two priors, both sealed, sources said. Police were interviewing him Thursday, they said. Police also have talked to the woman’s son. Sources said Olszweka was an alcoholic who also routinely fought with her son, Irek. Irek told cops he found his mom sleeping on her floor last night and called 911 the next morning when he found her in the same spot. Neighbors say Olszweka, a former maid at a hotel, lived in the Ridgewood apartment for at least 20 years with her son. “Sometimes I would hear them screaming when I took out the garbage,” said building super Dzemail Praprankiu. Neighbor David Perez said authorities often responded in person during the   spats. “Cops would be called here several times, and they would talk to him in the hallway,” he said. “She could barely\n",
      "\n",
      "\n",
      "A    man is facing a capital murder charge after being arrested in last week’s   out Christmas shopping with his grandmother. Gary Holmes was charged after surrendering to police in his hometown of Little Rock, Assistant US Attorney Patrick Harris said late Thursday. Holmes was the subject of national outrage and a $40, 000 reward after allegedly shooting the boy after becoming enraged when his grandmother did not move fast enough after braking for a stop sign. Holmes was booked into the Pulaski County Jail on one count of capital murder in the death of little Acen King during a traffic stop on Dec. 17. He was also charged with two counts of carrying out a terroristic act. KATV reported that Little Rock Mayor Mark Stodola said a family member had turned in the suspect. Holmes allegedly fired into the car, striking the boy with the fatal bullet. The grandmother, who wasn’t struck, drove away and called police from a shopping center. The boy was taken to a hospital, where he died shortly after. Police Lt. Steve McClanahan said investigators believe the boy and his grandmother “were completely innocent” and have no relationship with the shooter. He said the grandmother simply was “driving the car and was taking her grandson shopping when the incident occurred. ” It was the second deadly Little Rock   incident involving a young child in the last few weeks. A    girl was killed in November when a suspect who is still at large drove by the vehicle she was riding in and opened fire.\n"
     ]
    }
   ],
   "source": [
    "similar1, similar2, similar3 = similarArticles(article2)\n",
    "print(training_data.iloc[similar1,2][:1500])\n",
    "print('\\n')\n",
    "print(training_data.iloc[similar2,2][:1500])\n",
    "print('\\n')\n",
    "print(training_data.iloc[similar3,2][:1500])"
   ]
  },
  {
   "cell_type": "markdown",
   "metadata": {},
   "source": [
    "After training the LDA model, the recommendation process is very quick and doesn't take more than a few seconds to run"
   ]
  }
 ],
 "metadata": {
  "anaconda-cloud": {},
  "kernelspec": {
   "display_name": "Python [Root]",
   "language": "python",
   "name": "Python [Root]"
  },
  "language_info": {
   "codemirror_mode": {
    "name": "ipython",
    "version": 3
   },
   "file_extension": ".py",
   "mimetype": "text/x-python",
   "name": "python",
   "nbconvert_exporter": "python",
   "pygments_lexer": "ipython3",
   "version": "3.5.2"
  }
 },
 "nbformat": 4,
 "nbformat_minor": 0
}
