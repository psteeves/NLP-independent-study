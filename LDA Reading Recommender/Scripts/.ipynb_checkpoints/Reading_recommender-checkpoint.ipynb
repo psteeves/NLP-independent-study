{
 "cells": [
  {
   "cell_type": "markdown",
   "metadata": {},
   "source": [
    "# Topic Modeling of American News Articles Using LDA"
   ]
  },
  {
   "cell_type": "markdown",
   "metadata": {},
   "source": [
    "Created by Patrick Steeves for Independent Study with Professor Kanungo <br>\n",
    "George Washington University, 12/23/2017"
   ]
  },
  {
   "cell_type": "markdown",
   "metadata": {},
   "source": [
    "### Setting up"
   ]
  },
  {
   "cell_type": "markdown",
   "metadata": {},
   "source": [
    "Import notebook Module.ipynb, which contains functions to import and clean the data, add features, and more"
   ]
  },
  {
   "cell_type": "code",
   "execution_count": 1,
   "metadata": {
    "collapsed": false
   },
   "outputs": [
    {
     "name": "stderr",
     "output_type": "stream",
     "text": [
      "C:\\Users\\patri\\Anaconda3\\lib\\site-packages\\gensim\\utils.py:860: UserWarning: detected Windows; aliasing chunkize to chunkize_serial\n",
      "  warnings.warn(\"detected Windows; aliasing chunkize to chunkize_serial\")\n"
     ]
    }
   ],
   "source": [
    "%run Module.ipynb"
   ]
  },
  {
   "cell_type": "code",
   "execution_count": 2,
   "metadata": {
    "collapsed": true
   },
   "outputs": [],
   "source": [
    "%matplotlib inline"
   ]
  },
  {
   "cell_type": "markdown",
   "metadata": {},
   "source": [
    "### <br> <br> Data import and cleaning"
   ]
  },
  {
   "cell_type": "markdown",
   "metadata": {},
   "source": [
    "The data we have is collected from Kaggle at https://www.kaggle.com/snapcrack/all-the-news <br>\n",
    "It contains 143,000 articles and is available for download as 3 files: articles1.csv, articles2.csv, articles3.csv <br><br> The data was split into smaller subsets and are downloaded here from GitHub"
   ]
  },
  {
   "cell_type": "markdown",
   "metadata": {},
   "source": [
    "Import news articles from CSV"
   ]
  },
  {
   "cell_type": "code",
   "execution_count": 5,
   "metadata": {
    "collapsed": false,
    "scrolled": true
   },
   "outputs": [
    {
     "name": "stdout",
     "output_type": "stream",
     "text": [
      "Importing and unzipping file 1/7...\n",
      "Importing and unzipping file 2/7...\n",
      "Importing and unzipping file 3/7...\n",
      "Importing and unzipping file 4/7...\n",
      "Importing and unzipping file 5/7...\n",
      "Importing and unzipping file 6/7...\n",
      "Importing and unzipping file 7/7...\n",
      "Computing word counts\n"
     ]
    }
   ],
   "source": [
    "data = importData()"
   ]
  },
  {
   "cell_type": "code",
   "execution_count": 7,
   "metadata": {
    "collapsed": false
   },
   "outputs": [
    {
     "data": {
      "text/plain": [
       "(array([ 14603.,  29646.,  27948.,  23223.,  16881.,  10268.,   6832.,\n",
       "          4111.,   2558.,   1609.]),\n",
       " array([   0,  200,  400,  600,  800, 1000, 1200, 1400, 1600, 1800, 2000]),\n",
       " <a list of 10 Patch objects>)"
      ]
     },
     "execution_count": 7,
     "metadata": {},
     "output_type": "execute_result"
    },
    {
     "data": {
      "image/png": "[encoded data removed]",
      "text/plain": [
       "<matplotlib.figure.Figure at 0x241ac28c518>"
      ]
     },
     "metadata": {},
     "output_type": "display_data"
    }
   ],
   "source": [
    "plt.hist(data.word_count, bins=[b for b in range(0,2001, 200)])"
   ]
  },
  {
   "cell_type": "markdown",
   "metadata": {},
   "source": [
    "The dataset is too large to train on most local machines, so I will select articles of medium length (200 - 700 words), and I will sample 70% of that data to train my LDA model"
   ]
  },
  {
   "cell_type": "code",
   "execution_count": 8,
   "metadata": {
    "collapsed": false
   },
   "outputs": [],
   "source": [
    "data = data.query(\"word_count > 199 and word_count < 701\")\n",
    "data = data.sample(frac = 0.7).reset_index(drop=True)"
   ]
  },
  {
   "cell_type": "code",
   "execution_count": 10,
   "metadata": {
    "collapsed": false
   },
   "outputs": [
    {
     "name": "stdout",
     "output_type": "stream",
     "text": [
      "Starting cleaning...\n",
      "Tokenizing...\n",
      "Lemmatizing and filtering stopwords...\n",
      "Took 718 minutes to clean texts\n"
     ]
    }
   ],
   "source": [
    "clean_articles = cleanData(data,'content')\n",
    "del(data)"
   ]
  },
  {
   "cell_type": "markdown",
   "metadata": {},
   "source": [
    "Let's take a look at our data"
   ]
  },
  {
   "cell_type": "code",
   "execution_count": 11,
   "metadata": {
    "collapsed": false
   },
   "outputs": [
    {
     "data": {
      "text/html": [
       "<div>\n",
       "<table border=\"1\" class=\"dataframe\">\n",
       "  <thead>\n",
       "    <tr style=\"text-align: right;\">\n",
       "      <th></th>\n",
       "      <th>title</th>\n",
       "      <th>publication</th>\n",
       "      <th>content</th>\n",
       "      <th>word_count</th>\n",
       "      <th>tokens</th>\n",
       "    </tr>\n",
       "  </thead>\n",
       "  <tbody>\n",
       "    <tr>\n",
       "      <th>0</th>\n",
       "      <td>Bill Clinton concedes role in mass incarceration</td>\n",
       "      <td>CNN</td>\n",
       "      <td>(CNN) President Bill Clinton on Wednesday con...</td>\n",
       "      <td>560</td>\n",
       "      <td>[CNN, President, Bill, Clinton, Wednesday, con...</td>\n",
       "    </tr>\n",
       "    <tr>\n",
       "      <th>1</th>\n",
       "      <td>’When We Rise’ is ’necessary conversation,’ sa...</td>\n",
       "      <td>CNN</td>\n",
       "      <td>(CNN) Dustin Lance Black admits he wrote his ...</td>\n",
       "      <td>490</td>\n",
       "      <td>[CNN, Dustin, Lance, Black, admits, wrote, 200...</td>\n",
       "    </tr>\n",
       "    <tr>\n",
       "      <th>2</th>\n",
       "      <td>FBI Accessed San Bernardino Shooter’s iPhone ...</td>\n",
       "      <td>Buzzfeed News</td>\n",
       "      <td>’The full court filing is below. ’] SAN FRANCI...</td>\n",
       "      <td>659</td>\n",
       "      <td>[The, full, court, filing, SAN, FRANCISCO, The...</td>\n",
       "    </tr>\n",
       "  </tbody>\n",
       "</table>\n",
       "</div>"
      ],
      "text/plain": [
       "                                               title    publication  \\\n",
       "0   Bill Clinton concedes role in mass incarceration            CNN   \n",
       "1  ’When We Rise’ is ’necessary conversation,’ sa...            CNN   \n",
       "2   FBI Accessed San Bernardino Shooter’s iPhone ...  Buzzfeed News   \n",
       "\n",
       "                                             content  word_count  \\\n",
       "0   (CNN) President Bill Clinton on Wednesday con...         560   \n",
       "1   (CNN) Dustin Lance Black admits he wrote his ...         490   \n",
       "2  ’The full court filing is below. ’] SAN FRANCI...         659   \n",
       "\n",
       "                                              tokens  \n",
       "0  [CNN, President, Bill, Clinton, Wednesday, con...  \n",
       "1  [CNN, Dustin, Lance, Black, admits, wrote, 200...  \n",
       "2  [The, full, court, filing, SAN, FRANCISCO, The...  "
      ]
     },
     "execution_count": 11,
     "metadata": {},
     "output_type": "execute_result"
    }
   ],
   "source": [
    "clean_articles.iloc[:3,:]"
   ]
  },
  {
   "cell_type": "markdown",
   "metadata": {},
   "source": [
    "Add bigrams to articles"
   ]
  },
  {
   "cell_type": "code",
   "execution_count": 12,
   "metadata": {
    "collapsed": true
   },
   "outputs": [],
   "source": [
    "bigrams, complete_data = addBigrams(clean_articles, 'tokens')\n",
    "del(clean_articles)"
   ]
  },
  {
   "cell_type": "markdown",
   "metadata": {},
   "source": [
    "The above code recognizes sets of consecutive words that are in our dataset at least 250 articles. These couples are returned as one word separated by a hyphen, as illustrated below"
   ]
  },
  {
   "cell_type": "code",
   "execution_count": 13,
   "metadata": {
    "collapsed": false
   },
   "outputs": [
    {
     "name": "stdout",
     "output_type": "stream",
     "text": [
      "['new', 'york', 'north', 'korea', 'not', 'a', 'bigram']\n"
     ]
    }
   ],
   "source": [
    "print(bigrams['new','york','north','korea', 'not','a','bigram'])"
   ]
  },
  {
   "cell_type": "markdown",
   "metadata": {},
   "source": [
    "Create bag of words representation for articles"
   ]
  },
  {
   "cell_type": "code",
   "execution_count": 14,
   "metadata": {
    "collapsed": false
   },
   "outputs": [],
   "source": [
    "training_data, dictionary = createBOW(complete_data, 'tokens')"
   ]
  },
  {
   "cell_type": "markdown",
   "metadata": {},
   "source": [
    "Our data is now ready to train the LDA model"
   ]
  },
  {
   "cell_type": "code",
   "execution_count": 15,
   "metadata": {
    "collapsed": false
   },
   "outputs": [
    {
     "data": {
      "text/html": [
       "<div>\n",
       "<table border=\"1\" class=\"dataframe\">\n",
       "  <thead>\n",
       "    <tr style=\"text-align: right;\">\n",
       "      <th></th>\n",
       "      <th>title</th>\n",
       "      <th>publication</th>\n",
       "      <th>content</th>\n",
       "      <th>word_count</th>\n",
       "      <th>tokens</th>\n",
       "      <th>bow</th>\n",
       "    </tr>\n",
       "  </thead>\n",
       "  <tbody>\n",
       "    <tr>\n",
       "      <th>10</th>\n",
       "      <td>Ben Carson: slaves were immigrants with dreams...</td>\n",
       "      <td>Vox</td>\n",
       "      <td>Ben Carson says slaves were “immigrants” who ...</td>\n",
       "      <td>341</td>\n",
       "      <td>[Ben, Carson, say, slave, immigrant, dream, on...</td>\n",
       "      <td>[(27, 2), (52, 1), (118, 1), (145, 2), (353, 1...</td>\n",
       "    </tr>\n",
       "    <tr>\n",
       "      <th>11</th>\n",
       "      <td>One reason why retailers are struggling: Ameri...</td>\n",
       "      <td>New York Post</td>\n",
       "      <td>If you are wondering why US retailers are feel...</td>\n",
       "      <td>339</td>\n",
       "      <td>[If, wondering, US, retailer, feeling, strain,...</td>\n",
       "      <td>[(63, 1), (126, 3), (234, 1), (237, 1), (312, ...</td>\n",
       "    </tr>\n",
       "    <tr>\n",
       "      <th>12</th>\n",
       "      <td>Obamacare just suffered 2 big blows from insur...</td>\n",
       "      <td>Business Insider</td>\n",
       "      <td>’  ’ ”   As Republicans ready a new bid to  tw...</td>\n",
       "      <td>267</td>\n",
       "      <td>[As, Republicans, ready, new, bid, two, compan...</td>\n",
       "      <td>[(43, 1), (126, 1), (296, 1), (345, 1), (589, ...</td>\n",
       "    </tr>\n",
       "  </tbody>\n",
       "</table>\n",
       "</div>"
      ],
      "text/plain": [
       "                                                title       publication  \\\n",
       "10  Ben Carson: slaves were immigrants with dreams...               Vox   \n",
       "11  One reason why retailers are struggling: Ameri...     New York Post   \n",
       "12  Obamacare just suffered 2 big blows from insur...  Business Insider   \n",
       "\n",
       "                                              content  word_count  \\\n",
       "10   Ben Carson says slaves were “immigrants” who ...         341   \n",
       "11  If you are wondering why US retailers are feel...         339   \n",
       "12  ’  ’ ”   As Republicans ready a new bid to  tw...         267   \n",
       "\n",
       "                                               tokens  \\\n",
       "10  [Ben, Carson, say, slave, immigrant, dream, on...   \n",
       "11  [If, wondering, US, retailer, feeling, strain,...   \n",
       "12  [As, Republicans, ready, new, bid, two, compan...   \n",
       "\n",
       "                                                  bow  \n",
       "10  [(27, 2), (52, 1), (118, 1), (145, 2), (353, 1...  \n",
       "11  [(63, 1), (126, 3), (234, 1), (237, 1), (312, ...  \n",
       "12  [(43, 1), (126, 1), (296, 1), (345, 1), (589, ...  "
      ]
     },
     "execution_count": 15,
     "metadata": {},
     "output_type": "execute_result"
    }
   ],
   "source": [
    "training_data.iloc[10:13,:]"
   ]
  },
  {
   "cell_type": "markdown",
   "metadata": {},
   "source": [
    "### <br><br> LDA Model"
   ]
  },
  {
   "cell_type": "markdown",
   "metadata": {},
   "source": [
    "Check that our dictionary is filled"
   ]
  },
  {
   "cell_type": "code",
   "execution_count": 16,
   "metadata": {
    "collapsed": false
   },
   "outputs": [
    {
     "data": {
      "text/plain": [
       "'Attorney_General'"
      ]
     },
     "execution_count": 16,
     "metadata": {},
     "output_type": "execute_result"
    }
   ],
   "source": [
    "dictionary[0]"
   ]
  },
  {
   "cell_type": "code",
   "execution_count": 17,
   "metadata": {
    "collapsed": false
   },
   "outputs": [
    {
     "name": "stdout",
     "output_type": "stream",
     "text": [
      "Our training data has 8930 distinct words\n",
      "Our corpus has 48954 documents\n"
     ]
    }
   ],
   "source": [
    "print(\"Our training data has {} distinct words\".format(len(dictionary)))\n",
    "print(\"Our corpus has {} documents\".format(len(training_data)))"
   ]
  },
  {
   "cell_type": "markdown",
   "metadata": {},
   "source": [
    "Set parameters for LDA model training"
   ]
  },
  {
   "cell_type": "code",
   "execution_count": 18,
   "metadata": {
    "collapsed": true
   },
   "outputs": [],
   "source": [
    "id2word = dictionary.id2token   # Dictionary with BOW token definitions"
   ]
  },
  {
   "cell_type": "code",
   "execution_count": 19,
   "metadata": {
    "collapsed": true
   },
   "outputs": [],
   "source": [
    "num_topics = 18    # This number of topics led to the most interpretable topics\n",
    "chunksize = 10000\n",
    "passes = 15\n",
    "iterations = 300"
   ]
  },
  {
   "cell_type": "markdown",
   "metadata": {},
   "source": [
    "Time to train model! To obtain the best (most interpretable) results, the moost important parameters to tune were the minimum and maximum frequency of a word to be included in our dictionary, and the number of topics that the LDA finds"
   ]
  },
  {
   "cell_type": "code",
   "execution_count": 21,
   "metadata": {
    "collapsed": false
   },
   "outputs": [
    {
     "name": "stdout",
     "output_type": "stream",
     "text": [
      "Took 433.93170580863955 minutes to train model\n"
     ]
    }
   ],
   "source": [
    "from gensim.models import LdaModel\n",
    "\n",
    "start = time.time()\n",
    "model = LdaModel(corpus = training_data['bow'], num_topics = num_topics, id2word = id2word, chunksize = chunksize, iterations = iterations, passes = passes)\n",
    "print(\"Took {} minutes to train model\".format((time.time()-start)/60))"
   ]
  },
  {
   "cell_type": "markdown",
   "metadata": {},
   "source": [
    "Print resulting topics. As assumed in our model, our articles can be composed of 20 different topics. These topics are generated by the following word distributions, which are easily interpretable. The first topic, for example, is the judiciary. The second one is foreign conflicts, and so on"
   ]
  },
  {
   "cell_type": "code",
   "execution_count": 29,
   "metadata": {
    "collapsed": false
   },
   "outputs": [
    {
     "name": "stdout",
     "output_type": "stream",
     "text": [
      "Topic 1: \n",
      "0.016*\"court\" + 0.013*\"case\" + 0.009*\"law\" + 0.009*\"federal\" + 0.008*\"judge\" + 0.007*\"state\" + 0.006*\"Court\" + 0.006*\"lawsuit\" + 0.006*\"attorney\" + 0.006*\"charge\" + 0.006*\"lawyer\" + 0.005*\"In\" + 0.005*\"Justice\" + 0.005*\"year\" + 0.005*\"would\" + 0.005*\"government\" + 0.005*\"Department\" + 0.005*\"legal\" + 0.005*\"statement\" + 0.004*\"filed\" + 0.004*\"trial\" + 0.004*\"order\" + 0.004*\"decision\" + 0.004*\"claim\" + 0.004*\"also\"\n",
      "\n",
      "Topic 2: \n",
      "0.037*\"percent\" + 0.011*\"year\" + 0.009*\"rate\" + 0.009*\"market\" + 0.008*\"billion\" + 0.007*\"price\" + 0.007*\"bank\" + 0.006*\"last\" + 0.005*\"since\" + 0.005*\"growth\" + 0.005*\"economy\" + 0.005*\"stock\" + 0.005*\"month\" + 0.004*\"Wednesday\" + 0.004*\"oil\" + 0.004*\"week\" + 0.004*\"high\" + 0.004*\"per\" + 0.004*\"fell\" + 0.004*\"expected\" + 0.004*\"average\" + 0.004*\"new\" + 0.004*\"share\" + 0.004*\"job\" + 0.004*\"Fed\"\n",
      "\n",
      "Topic 3: \n",
      "0.009*\"law\" + 0.009*\"student\" + 0.008*\"gun\" + 0.008*\"right\" + 0.008*\"Breitbart\" + 0.007*\"immigration\" + 0.006*\"people\" + 0.006*\"state\" + 0.006*\"immigrant\" + 0.005*\"country\" + 0.005*\"school\" + 0.005*\"American\" + 0.005*\"group\" + 0.005*\"Twitter\" + 0.004*\"illegal\" + 0.004*\"News\" + 0.004*\"also\" + 0.004*\"community\" + 0.004*\"Obama\" + 0.004*\"Court\" + 0.004*\"ban\" + 0.004*\"Supreme\" + 0.004*\"In\" + 0.004*\"order\" + 0.004*\"Supreme_Court\"\n",
      "\n",
      "Topic 4: \n",
      "0.018*\"China\" + 0.017*\"North\" + 0.015*\"Korea\" + 0.013*\"military\" + 0.012*\"Iran\" + 0.011*\"nuclear\" + 0.010*\"North_Korea\" + 0.010*\"South\" + 0.009*\"missile\" + 0.009*\"US\" + 0.008*\"official\" + 0.007*\"Chinese\" + 0.007*\"United\" + 0.006*\"Korean\" + 0.006*\"United_States\" + 0.006*\"States\" + 0.005*\"weapon\" + 0.005*\"country\" + 0.005*\"would\" + 0.004*\"test\" + 0.004*\"Navy\" + 0.004*\"Kim\" + 0.004*\"President\" + 0.004*\"sanction\" + 0.004*\"defense\"\n",
      "\n",
      "Topic 5: \n",
      "0.011*\"child\" + 0.010*\"woman\" + 0.009*\"school\" + 0.009*\"study\" + 0.008*\"say\" + 0.007*\"health\" + 0.007*\"year\" + 0.006*\"people\" + 0.006*\"found\" + 0.006*\"student\" + 0.005*\"drug\" + 0.005*\"also\" + 0.004*\"In\" + 0.004*\"University\" + 0.004*\"medical\" + 0.004*\"Zika\" + 0.004*\"research\" + 0.004*\"doctor\" + 0.004*\"patient\" + 0.004*\"case\" + 0.004*\"parent\" + 0.004*\"researcher\" + 0.004*\"may\" + 0.004*\"disease\" + 0.004*\"report\"\n",
      "\n",
      "Topic 6: \n",
      "0.028*\"company\" + 0.010*\"million\" + 0.008*\"billion\" + 0.007*\"year\" + 0.007*\"business\" + 0.006*\"new\" + 0.006*\"Apple\" + 0.006*\"Facebook\" + 0.005*\"sale\" + 0.005*\"also\" + 0.005*\"would\" + 0.005*\"user\" + 0.005*\"deal\" + 0.005*\"firm\" + 0.005*\"Google\" + 0.004*\"Inc\" + 0.004*\"share\" + 0.004*\"service\" + 0.004*\"customer\" + 0.004*\"market\" + 0.004*\"technology\" + 0.004*\"product\" + 0.003*\"CEO\" + 0.003*\"last\" + 0.003*\"Wednesday\"\n",
      "\n",
      "Topic 7: \n",
      "0.017*\"attack\" + 0.009*\"Islamic\" + 0.009*\"group\" + 0.008*\"people\" + 0.008*\"terrorist\" + 0.007*\"Syria\" + 0.007*\"ISIS\" + 0.007*\"State\" + 0.007*\"country\" + 0.006*\"force\" + 0.006*\"refugee\" + 0.005*\"government\" + 0.005*\"Islamic_State\" + 0.005*\"Syrian\" + 0.005*\"killed\" + 0.005*\"migrant\" + 0.005*\"Iraq\" + 0.005*\"also\" + 0.005*\"war\" + 0.005*\"Israel\" + 0.005*\"military\" + 0.005*\"Muslim\" + 0.004*\"city\" + 0.004*\"security\" + 0.004*\"Turkey\"\n",
      "\n",
      "Topic 8: \n",
      "0.011*\"year\" + 0.006*\"It\" + 0.006*\"one\" + 0.006*\"say\" + 0.005*\"new\" + 0.005*\"also\" + 0.005*\"In\" + 0.005*\"first\" + 0.005*\"home\" + 0.004*\"000\" + 0.004*\"time\" + 0.004*\"like\" + 0.004*\"world\" + 0.004*\"million\" + 0.003*\"But\" + 0.003*\"food\" + 0.003*\"work\" + 0.003*\"life\" + 0.003*\"two\" + 0.003*\"around\" + 0.003*\"photo\" + 0.003*\"space\" + 0.003*\"book\" + 0.003*\"city\" + 0.002*\"day\"\n",
      "\n",
      "Topic 9: \n",
      "0.010*\"game\" + 0.009*\"year\" + 0.007*\"first\" + 0.007*\"team\" + 0.007*\"show\" + 0.006*\"season\" + 0.006*\"film\" + 0.006*\"He\" + 0.006*\"last\" + 0.005*\"player\" + 0.005*\"time\" + 0.005*\"two\" + 0.005*\"play\" + 0.005*\"one\" + 0.005*\"It\" + 0.004*\"movie\" + 0.004*\"fan\" + 0.004*\"star\" + 0.004*\"also\" + 0.003*\"second\" + 0.003*\"back\" + 0.003*\"three\" + 0.003*\"win\" + 0.003*\"week\" + 0.003*\"night\"\n",
      "\n",
      "Topic 10: \n",
      "0.038*\"Clinton\" + 0.014*\"Hillary\" + 0.012*\"email\" + 0.011*\"FBI\" + 0.010*\"Hillary_Clinton\" + 0.010*\"Comey\" + 0.009*\"campaign\" + 0.008*\"investigation\" + 0.007*\"Russian\" + 0.007*\"Russia\" + 0.006*\"intelligence\" + 0.006*\"election\" + 0.006*\"information\" + 0.005*\"President\" + 0.005*\"News\" + 0.005*\"Democratic\" + 0.005*\"Breitbart\" + 0.005*\"Committee\" + 0.005*\"Trump\" + 0.004*\"former\" + 0.004*\"would\" + 0.004*\"official\" + 0.004*\"House\" + 0.004*\"State\" + 0.004*\"Department\"\n",
      "\n",
      "Topic 11: \n",
      "0.019*\"police\" + 0.011*\"officer\" + 0.009*\"told\" + 0.008*\"He\" + 0.007*\"man\" + 0.006*\"Police\" + 0.006*\"two\" + 0.006*\"family\" + 0.005*\"shooting\" + 0.005*\"video\" + 0.005*\"one\" + 0.005*\"shot\" + 0.005*\"death\" + 0.005*\"people\" + 0.004*\"killed\" + 0.004*\"reported\" + 0.004*\"incident\" + 0.004*\"according\" + 0.004*\"victim\" + 0.004*\"arrested\" + 0.004*\"woman\" + 0.004*\"home\" + 0.003*\"murder\" + 0.003*\"found\" + 0.003*\"time\"\n",
      "\n",
      "Topic 12: \n",
      "0.031*\"Trump\" + 0.017*\"Clinton\" + 0.013*\"Republican\" + 0.012*\"campaign\" + 0.011*\"candidate\" + 0.011*\"voter\" + 0.010*\"vote\" + 0.010*\"election\" + 0.009*\"Cruz\" + 0.009*\"presidential\" + 0.009*\"state\" + 0.009*\"Donald\" + 0.008*\"Donald_Trump\" + 0.008*\"Sanders\" + 0.007*\"Hillary\" + 0.007*\"party\" + 0.007*\"Democratic\" + 0.007*\"nominee\" + 0.007*\"poll\" + 0.006*\"Hillary_Clinton\" + 0.006*\"primary\" + 0.005*\"GOP\" + 0.005*\"would\" + 0.005*\"support\" + 0.005*\"win\"\n",
      "\n",
      "Topic 13: \n",
      "0.009*\"water\" + 0.007*\"car\" + 0.006*\"flight\" + 0.005*\"area\" + 0.005*\"people\" + 0.005*\"000\" + 0.005*\"plane\" + 0.005*\"city\" + 0.004*\"could\" + 0.004*\"vehicle\" + 0.004*\"passenger\" + 0.004*\"mile\" + 0.004*\"driver\" + 0.004*\"It\" + 0.004*\"state\" + 0.004*\"day\" + 0.004*\"official\" + 0.004*\"one\" + 0.004*\"time\" + 0.004*\"fire\" + 0.003*\"according\" + 0.003*\"hour\" + 0.003*\"California\" + 0.003*\"storm\" + 0.003*\"gas\"\n",
      "\n",
      "Topic 14: \n",
      "0.078*\"Trump\" + 0.015*\"Donald\" + 0.013*\"President\" + 0.012*\"White\" + 0.012*\"House\" + 0.011*\"White_House\" + 0.011*\"president\" + 0.010*\"Obama\" + 0.010*\"Donald_Trump\" + 0.007*\"Mr\" + 0.006*\"campaign\" + 0.006*\"Twitter\" + 0.006*\"medium\" + 0.006*\"He\" + 0.005*\"2016\" + 0.005*\"Washington\" + 0.005*\"CNN\" + 0.004*\"press\" + 0.004*\"tweet\" + 0.004*\"administration\" + 0.004*\"told\" + 0.004*\"comment\" + 0.004*\"news\" + 0.004*\"also\" + 0.004*\"first\"\n",
      "\n",
      "Topic 15: \n",
      "0.011*\"say\" + 0.011*\"like\" + 0.011*\"It\" + 0.010*\"people\" + 0.010*\"But\" + 0.010*\"And\" + 0.009*\"one\" + 0.007*\"think\" + 0.007*\"get\" + 0.007*\"know\" + 0.006*\"thing\" + 0.006*\"would\" + 0.006*\"way\" + 0.006*\"want\" + 0.006*\"make\" + 0.006*\"time\" + 0.006*\"going\" + 0.005*\"We\" + 0.005*\"even\" + 0.005*\"He\" + 0.005*\"You\" + 0.005*\"woman\" + 0.004*\"That\" + 0.004*\"really\" + 0.004*\"u\"\n",
      "\n",
      "Topic 16: \n",
      "0.010*\"country\" + 0.009*\"United\" + 0.009*\"government\" + 0.009*\"would\" + 0.007*\"States\" + 0.007*\"President\" + 0.007*\"United_States\" + 0.006*\"leader\" + 0.005*\"Russia\" + 0.005*\"European\" + 0.005*\"Obama\" + 0.005*\"Trump\" + 0.004*\"EU\" + 0.004*\"Putin\" + 0.004*\"policy\" + 0.004*\"president\" + 0.004*\"political\" + 0.004*\"deal\" + 0.004*\"world\" + 0.004*\"trade\" + 0.004*\"party\" + 0.004*\"Russian\" + 0.004*\"year\" + 0.004*\"minister\" + 0.004*\"Britain\"\n",
      "\n",
      "Topic 17: \n",
      "0.040*\"New\" + 0.032*\"York\" + 0.032*\"New_York\" + 0.012*\"News\" + 0.011*\"Times\" + 0.010*\"Fox\" + 0.009*\"told\" + 0.008*\"source\" + 0.007*\"report\" + 0.007*\"reported\" + 0.007*\"City\" + 0.006*\"Post\" + 0.006*\"former\" + 0.006*\"according\" + 0.005*\"Fox_News\" + 0.005*\"official\" + 0.005*\"Jersey\" + 0.005*\"Department\" + 0.005*\"Kelly\" + 0.005*\"also\" + 0.004*\"email\" + 0.004*\"New_Jersey\" + 0.004*\"office\" + 0.004*\"staff\" + 0.004*\"city\"\n",
      "\n",
      "Topic 18: \n",
      "0.015*\"would\" + 0.012*\"bill\" + 0.011*\"tax\" + 0.011*\"House\" + 0.009*\"Senate\" + 0.008*\"plan\" + 0.007*\"Congress\" + 0.007*\"state\" + 0.007*\"Republicans\" + 0.007*\"health\" + 0.006*\"government\" + 0.006*\"year\" + 0.005*\"Republican\" + 0.005*\"Democrats\" + 0.005*\"Obamacare\" + 0.005*\"federal\" + 0.005*\"care\" + 0.005*\"people\" + 0.005*\"Ryan\" + 0.005*\"law\" + 0.004*\"administration\" + 0.004*\"Obama\" + 0.004*\"million\" + 0.004*\"President\" + 0.004*\"vote\"\n",
      "\n"
     ]
    }
   ],
   "source": [
    "for i in range(num_topics):\n",
    "    print('Topic {}: \\n'.format(i+1)+model.print_topic(i,topn=25)+'\\n')"
   ]
  },
  {
   "cell_type": "markdown",
   "metadata": {},
   "source": [
    "For each of our articles, compute its PDF over topics"
   ]
  },
  {
   "cell_type": "code",
   "execution_count": 23,
   "metadata": {
    "collapsed": false
   },
   "outputs": [],
   "source": [
    "training_data['topics'] = getDocTopics(training_data['bow'], model)"
   ]
  },
  {
   "cell_type": "markdown",
   "metadata": {},
   "source": [
    "### <br><br>Recommending further articles to readers"
   ]
  },
  {
   "cell_type": "markdown",
   "metadata": {
    "collapsed": true
   },
   "source": [
    "The code below returns the three most similar articles as assessed by our model. It uses functionality defined in the module notebook"
   ]
  },
  {
   "cell_type": "markdown",
   "metadata": {},
   "source": [
    "Let's try with some randomly selected articles"
   ]
  },
  {
   "cell_type": "code",
   "execution_count": 24,
   "metadata": {
    "collapsed": false
   },
   "outputs": [
    {
     "data": {
      "text/plain": [
       "'A Miami Heat employee knelt for the national anthem while performing the song before a game against the Philadelphia 76ers on Friday night. [“When I took the opportunity to sing the national anthem at the Heat game, it was bigger than me,” Denasia Lawrence posted on social media. “Right now, we’re seeing a war on black and brown bodies —  we’re being unjustly killed and overly criminalized. ”  Denasia Lawrence sang the song while on on her left knee at midcourt to a sparse preseason crowd at American Airlines Arena. She opened her jacket to reveal a Black Lives Matter shirt. “We were unaware of it ahead of time,” the Heat claimed in a statement. They did not mention that the team employs Lawrence on a   basis as a “  operations” worker, as the Miami   reported. The woman identified herself merely as a “social worker” in her online posts. The 76ers won the game  . All players stood for the song. Some players praised the singer’s stand of not standing. Heat forward Derrick Williams offered adulation on Instagram: Very brave. Very courageous. Amazing voice. A photo posted by Derrick Williams (@dwxxiii) on Oct 21, 2016 at 9:19pm PDT,  Earlier this month, recording artist Leah Tysse briefly took a knee toward the end of her performance of “The Star Spangled Banner” at the first Sacramento Kings game at the new Golden 1 Center. She, too, cited police brutality and racism as the catalyst for her gesture. Friday’s midcourt demonstration followed a declaration a few hours earlier by NBA Commissioner Adam Silver that he hoped to see all players standing for the anthem this season, which tips off on Tuesday. “I didn’t get paid to sing the national anthem nor was this moment about any sort of fame,” Lawrence wrote. “Black Lives Matter is far larger than a hashtag, it’s a rallying cry. And until our cry is rightfully heard, protests will still happen and demands will still be made!”'"
      ]
     },
     "execution_count": 24,
     "metadata": {},
     "output_type": "execute_result"
    }
   ],
   "source": [
    "article1 = round(np.random.rand()*len(training_data))\n",
    "training_data.iloc[article1,2]"
   ]
  },
  {
   "cell_type": "code",
   "execution_count": 34,
   "metadata": {
    "collapsed": true
   },
   "outputs": [],
   "source": [
    "%run Module.ipynb"
   ]
  },
  {
   "cell_type": "code",
   "execution_count": 35,
   "metadata": {
    "collapsed": false
   },
   "outputs": [
    {
     "name": "stdout",
     "output_type": "stream",
     "text": [
      "Tom Brady’s Super Bowl jersey went missing after the Patriots’ remarkable victory over the Falcons on Sunday night. But fear not: the Texas rangers are on the case. After leading New England to an improbable and historic comeback at NRG Stadium, Brady lost his shirt in the melee. The quarterback was unable to find his jersey despite a thorough search of the locker room after the game. “This is not good,” a flustered Brady said at the time. “It was right here and now I don’t have it. Not good. ” On Monday, however, Dan Patrick, Texas’s lieutenant governor, said he was calling in the big guns to help the Houston police department retrieve the missing item. Patrick said: “In Texas we place a very high value on hospitality and football. Tom Brady’s jersey has great historical value and is already being called the most valuable NFL collectible ever. It will likely go into the Hall of Fame one day. “It is important that history does not record that it was stolen in Texas. I’ve called Colonel Steve McCraw to ask that the Texas rangers work with the Houston police department on this case. “I’m a Texans and Cowboys fan first, but the unquestionable success of the Super Bowl in Houston last night was a big win for our entire state and I don’t want anything to mar that victory. Whoever took this jersey should turn it in. The Texas rangers are on the trail. ” No police report has been filed, but NFL security has been in touch with officers in Houston. Brady said on Monday: “I put it in t\n",
      "\n",
      "\n",
      " Anton Yelchin, best known for playing Chekov in the recent ”Star Trek” movies, was found dead early Sunday morning after apparently being pinned between his car and a brick mailbox on his property, TMZ reported. He was 27. Yelchin’s publicist, Jennifer Allen confirmed the actor’s death. He was found around 1 a. m. by friends who had been alarmed when Yelchin did not show up for a rehearsal, TMZ reported. The car’s engine was running and the car was in neutral, law enforcement sources told TMZ. Yelchin’s driveway was on a steep incline. Officials do not suspect foul play, TMZ reported. Yelchin began acting as a child, taking small roles in independent films and various television shows, such as ”ER,” ’’The Practice,” and ”Curb Your Enthusiasm.” His breakout   role came opposite Anthony Hopkins in 2001’s ”Hearts in Atlantis.” He transitioned into teenage roles in films such as the crime thriller ”Alpha Dog” and the teen comedy ”Charlie Bartlett.” He also played a young Kyle Reese in 2009’s ”Terminator Salvation.” Yelchin, an only child, was born in Russia. His parents were professional figure skaters who moved the family to the United States when Yelchin was a baby. He briefly flirted with skating lessons, too, before discovering that he wasn’t very skilled on the ice. That led him to acting class. ”I loved the improvisation part of it the most, because it was a lot like just playing around with stuff. There was something about it that I just felt completely comfortable doing \n",
      "\n",
      "\n",
      "The Baltimore Orioles were doubly unhappy on Tuesday night. For one thing, they’d lost they’d be heading home, while the Toronto Blue Jays are advancing in the AL Divison Series. But a beer can thrown from the stands in Toronto’s Rogers Centre added insult to injury. The can, tossed late in the seventh inning, narrowly missed outfielder Hyun Soo Kim. Kim made the catch despite the distraction. His teammate Adam Jones was visibly enraged. ”That was about as pathetic as it gets,” the center fielder said, according to The Baltimore Sun. ”I don’t like it,” Orioles manager Buck Showalter said. ”Nobody likes it.” From the fan perspective, SB Nation wrote that the act was offensive on several levels: ”This doesn’t just shake up the beer, rendering it undrinkable, but it actually wastes the entire thing. Also, it’s assault, and it will get you arrested and possibly banned from baseball games for life.” Police are investigating, The Associated Press reports, and a police spokesman said the fan responsible fled the stands before they could immediately nab him. This isn’t the first time Blue Jays fans have behaved badly, the AP notes: ”Blue Jays fans tossed bottles and debris on the field during game 5 against Texas last year, upset at the call that let [Rougned] Odor score from third after catcher Russell Martin’s throw back to the mound deflected off Shin Soo Choo’s bat.” It’s not even the first time fans in Toronto have thrown a can at an Orioles outfielder. In 2013, a full can was c\n"
     ]
    }
   ],
   "source": [
    "similar1, similar2, similar3 = similarArticles(article1)\n",
    "print(training_data.iloc[similar1,2][:1500])\n",
    "print('\\n')\n",
    "print(training_data.iloc[similar2,2][:1500])\n",
    "print('\\n')\n",
    "print(training_data.iloc[similar3,2][:1500])"
   ]
  },
  {
   "cell_type": "markdown",
   "metadata": {},
   "source": [
    "<br>Nice! The articles are all on topic. Let's try another one"
   ]
  },
  {
   "cell_type": "code",
   "execution_count": null,
   "metadata": {
    "collapsed": false
   },
   "outputs": [],
   "source": [
    "article2 = round(np.random.randn()*len(training_data))\n",
    "training_data.iloc[article2,2]"
   ]
  },
  {
   "cell_type": "code",
   "execution_count": null,
   "metadata": {
    "collapsed": false
   },
   "outputs": [],
   "source": [
    "similar1, similar2, similar3 = similarArticles(article2)\n",
    "print(training_data.iloc[similar1,2][:1500])\n",
    "print('\\n')\n",
    "print(training_data.iloc[similar2,2][:1500])\n",
    "print('\\n')\n",
    "print(training_data.iloc[similar3,2][:1500])"
   ]
  },
  {
   "cell_type": "markdown",
   "metadata": {},
   "source": [
    "After training the LDA model, the recommendation process is very quick and doesn't take more than a few seconds to run"
   ]
  }
 ],
 "metadata": {
  "anaconda-cloud": {},
  "kernelspec": {
   "display_name": "Python [Root]",
   "language": "python",
   "name": "Python [Root]"
  },
  "language_info": {
   "codemirror_mode": {
    "name": "ipython",
    "version": 3
   },
   "file_extension": ".py",
   "mimetype": "text/x-python",
   "name": "python",
   "nbconvert_exporter": "python",
   "pygments_lexer": "ipython3",
   "version": "3.5.2"
  }
 },
 "nbformat": 4,
 "nbformat_minor": 0
}
